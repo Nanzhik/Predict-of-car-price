{
 "cells": [
  {
   "cell_type": "markdown",
   "id": "9c6ba977",
   "metadata": {},
   "source": [
    "# Определение стоимости автомобилей"
   ]
  },
  {
   "cell_type": "markdown",
   "id": "2e8a3e42",
   "metadata": {},
   "source": [
    "<h1>Содержание<span class=\"tocSkip\"></span></h1>\n",
    "<div class=\"toc\"><ul class=\"toc-item\"><li><span><a href=\"#Описание-проекта\" data-toc-modified-id=\"Описание-проекта-1\"><span class=\"toc-item-num\">1&nbsp;&nbsp;</span>Описание проекта</a></span></li><li><span><a href=\"#Загрузка-данных\" data-toc-modified-id=\"Загрузка-данных-2\"><span class=\"toc-item-num\">2&nbsp;&nbsp;</span>Загрузка данных</a></span></li><li><span><a href=\"#Изучение-и-предобработка-данных\" data-toc-modified-id=\"Изучение-и-предобработка-данных-3\"><span class=\"toc-item-num\">3&nbsp;&nbsp;</span>Изучение и предобработка данных</a></span></li><li><span><a href=\"#Подготовка-выборок-для-обучения моделей\" data-toc-modified-id=\"Подготовка-выборок-для-обучения-моделей-4\"><span class=\"toc-item-num\">4&nbsp;&nbsp;</span>Подготовка выборок для обучения моделей</a></span></li><li><span><a href=\"#Обучение-моделей\" data-toc-modified-id=\"Обучение-моделей-5\"><span class=\"toc-item-num\">5&nbsp;&nbsp;</span>Обучение моделей</a></span></li><li><span><a href=\"#Анализ-работы-моделей\" data-toc-modified-id=\"Анализ-работы-моделей-6\"><span class=\"toc-item-num\">6&nbsp;&nbsp;</span>Анализ работы моделей</a></span></li><li><span><a href=\"#Общий-вывод\" data-toc-modified-id=\"Общий-вывод-7\"><span class=\"toc-item-num\">7&nbsp;&nbsp;</span>Общий вывод</a></span></li></ul></div></ul></div>"
   ]
  },
  {
   "cell_type": "markdown",
   "id": "2869b6ff",
   "metadata": {},
   "source": [
    "## Описание проекта"
   ]
  },
  {
   "cell_type": "markdown",
   "id": "b336f86e",
   "metadata": {},
   "source": [
    "**Заказчик:** Сервис по продаже автомобилей с пробегом «Не бит, не крашен», разрабатывающее приложение для привлечения новых клиентов. \n",
    "\n",
    "**Задача:** быстро узнать рыночную стоимость автомобиля по историческим данным: технические характеристики, комплектации и цены автомобилей. Необходимо построить модель для определения стоимости.   \n",
    "\n",
    "Важные моменты для Заказчика:  \n",
    "* качество предсказания;\n",
    "* скорость предсказания модели;\n",
    "* время обучения модели.  \n",
    "\n",
    "### Описание данных  \n",
    "\n",
    "Данные находятся в файле `/datasets/autos.csv`. \n",
    "\n",
    "**Признаки:**\n",
    "* *DateCrawled* — дата скачивания анкеты из базы\n",
    "* *VehicleType* — тип автомобильного кузова\n",
    "* *RegistrationYear* — год регистрации автомобиля\n",
    "* *Gearbox* — тип коробки передач\n",
    "* *Power* — мощность (л. с.)\n",
    "* *Model* — модель автомобиля\n",
    "* *Kilometer* — пробег (км)\n",
    "* *RegistrationMonth* — месяц регистрации автомобиля\n",
    "* *FuelType* — тип топлива\n",
    "* *Brand* — марка автомобиля\n",
    "* *Repaired* — была машина в ремонте или нет\n",
    "* *DateCreated* — дата создания анкеты\n",
    "* *NumberOfPictures* — количество фотографий автомобиля\n",
    "* *PostalCode* — почтовый индекс владельца анкеты (пользователя)\n",
    "* *LastSeen* — дата последней активности пользователя  \n",
    "\n",
    "**Целевой признак:**\n",
    "* *Price* — цена (евро)"
   ]
  },
  {
   "cell_type": "markdown",
   "id": "27d6c8ac",
   "metadata": {},
   "source": [
    "### Ход выполнения проекта"
   ]
  },
  {
   "cell_type": "markdown",
   "id": "fed455ca",
   "metadata": {},
   "source": [
    "Проект будем выполнять в несколько этапов:\n",
    "1. Загрузим данные.\n",
    "2. Изучим данные. Заполним пропущенные значения и обработаем аномалии в столбцах. Если среди признаков будут неинформативные, удалим их.\n",
    "3. Подготовим выборки для обучения моделей.\n",
    "4. Обучим разные модели. Для каждой модели попробуем разные гиперпараметры.\n",
    "5. Проанализирем время обучения, время предсказания и качество моделей.\n",
    "6. Опираясь на критерии Заказчика, выберем лучшую модель, проверим её качество на тестовой выборке.\n",
    "\n",
    "Примечания:  \n",
    "* Для оценки качества моделей применим метрику *RMSE*.\n",
    "* Значение метрики RMSE по требованию Заказчика должно быть меньше 2500.\n",
    "* Построим модели градиентного бустинга средствами библиотеки `LightGBM`.\n",
    "* Поскольку модель градиентного бустинга может обучаться долго, изменять у неё будем только два-три параметра."
   ]
  },
  {
   "cell_type": "markdown",
   "id": "1d86becf",
   "metadata": {},
   "source": [
    "## Загрузка данных"
   ]
  },
  {
   "cell_type": "code",
   "execution_count": 1,
   "id": "706e93dc",
   "metadata": {},
   "outputs": [
    {
     "name": "stderr",
     "output_type": "stream",
     "text": [
      "WARNING: Ignoring invalid distribution -illow (c:\\anaconda\\envs\\ds_practicum_env\\lib\\site-packages)\n",
      "WARNING: Ignoring invalid distribution -illow (c:\\anaconda\\envs\\ds_practicum_env\\lib\\site-packages)\n"
     ]
    }
   ],
   "source": [
    "! pip install -q phik"
   ]
  },
  {
   "cell_type": "code",
   "execution_count": 2,
   "id": "06cefaf6",
   "metadata": {},
   "outputs": [],
   "source": [
    "# Импорт библиотек\n",
    "import pandas as pd\n",
    "import numpy as np\n",
    "import matplotlib.pyplot as plt\n",
    "import seaborn as sns\n",
    "import time\n",
    "import phik\n",
    "from phik.report import plot_correlation_matrix\n",
    "\n",
    "from scipy import stats as st\n",
    "\n",
    "from sklearn.metrics import mean_squared_error\n",
    "from sklearn.preprocessing import (\n",
    "    OrdinalEncoder,\n",
    "    OneHotEncoder\n",
    ")\n",
    "from sklearn.model_selection import (\n",
    "    GridSearchCV,\n",
    "    train_test_split\n",
    ")  \n",
    "from sklearn.linear_model import LinearRegression\n",
    "from sklearn.ensemble import RandomForestRegressor\n",
    "\n",
    "from lightgbm import LGBMRegressor\n",
    "from xgboost import XGBRegressor\n",
    "from catboost import CatBoostRegressor\n",
    "\n",
    "import warnings"
   ]
  },
  {
   "cell_type": "code",
   "execution_count": 3,
   "id": "c47f1f72",
   "metadata": {},
   "outputs": [],
   "source": [
    "# увеличим максимальное количество отображаемых столбцов\n",
    "pd.set_option('display.max_columns', None)\n",
    "\n",
    "# Вывести из под комментария перед финальным запуском:\n",
    "# Игнорируем предупреждения о возможных изменениях работы функций в будущих версиях в Pandas\n",
    "warnings.filterwarnings(\"ignore\") "
   ]
  },
  {
   "cell_type": "code",
   "execution_count": 4,
   "id": "2a2d9174",
   "metadata": {},
   "outputs": [],
   "source": [
    "# считывание csv-файла\n",
    "try: \n",
    "    main_df = pd.read_csv('/datasets/autos.csv')\n",
    "except:\n",
    "    main_df = pd.read_csv('autos.csv')"
   ]
  },
  {
   "cell_type": "markdown",
   "id": "cb9bdbe8",
   "metadata": {},
   "source": [
    "Зададим значение `random_state`, которое будет использоваться на протяжении всего проекта. "
   ]
  },
  {
   "cell_type": "code",
   "execution_count": 5,
   "id": "3a22034c",
   "metadata": {},
   "outputs": [],
   "source": [
    "RANDOM_STATE = 12345"
   ]
  },
  {
   "cell_type": "markdown",
   "id": "9d6ab8b7",
   "metadata": {},
   "source": [
    "Создадим копию датафрейма, чтобы убедиться, что данные не испорчены после предобработки."
   ]
  },
  {
   "cell_type": "code",
   "execution_count": 6,
   "id": "e187dc10",
   "metadata": {},
   "outputs": [],
   "source": [
    "df = main_df.copy(deep=True)"
   ]
  },
  {
   "cell_type": "markdown",
   "id": "546a1045",
   "metadata": {},
   "source": [
    "## Изучение и предобработка данных"
   ]
  },
  {
   "cell_type": "markdown",
   "id": "e9516443",
   "metadata": {},
   "source": [
    "### Изучение данных"
   ]
  },
  {
   "cell_type": "markdown",
   "id": "c2201220",
   "metadata": {},
   "source": [
    "Для изучения общей информации о датафрейме напишем функцию:"
   ]
  },
  {
   "cell_type": "code",
   "execution_count": 7,
   "id": "2a6d3c61",
   "metadata": {},
   "outputs": [],
   "source": [
    "def description_df(df):\n",
    "    '''\n",
    "    Выводит первые 5 строк датафрейма, общую информацию о датафрейме,\n",
    "    показывает описание количественных признаков, проверяет наличие дубликатов\n",
    "    '''\n",
    "    \n",
    "    # Выведем общую информацию о таблице\n",
    "    display(df.head())\n",
    "    df.info()\n",
    "    display(df.describe())\n",
    "    \n",
    "    # Проверим наличие дубликатов\n",
    "    if df.duplicated().sum() == 0:\n",
    "        print('Дубликатов не обнаружено')\n",
    "    else:\n",
    "        print('Количество полных дубликатов:', df.duplicated().sum())"
   ]
  },
  {
   "cell_type": "code",
   "execution_count": 8,
   "id": "1e39ce2a",
   "metadata": {},
   "outputs": [
    {
     "data": {
      "text/html": [
       "<div>\n",
       "<style scoped>\n",
       "    .dataframe tbody tr th:only-of-type {\n",
       "        vertical-align: middle;\n",
       "    }\n",
       "\n",
       "    .dataframe tbody tr th {\n",
       "        vertical-align: top;\n",
       "    }\n",
       "\n",
       "    .dataframe thead th {\n",
       "        text-align: right;\n",
       "    }\n",
       "</style>\n",
       "<table border=\"1\" class=\"dataframe\">\n",
       "  <thead>\n",
       "    <tr style=\"text-align: right;\">\n",
       "      <th></th>\n",
       "      <th>DateCrawled</th>\n",
       "      <th>Price</th>\n",
       "      <th>VehicleType</th>\n",
       "      <th>RegistrationYear</th>\n",
       "      <th>Gearbox</th>\n",
       "      <th>Power</th>\n",
       "      <th>Model</th>\n",
       "      <th>Kilometer</th>\n",
       "      <th>RegistrationMonth</th>\n",
       "      <th>FuelType</th>\n",
       "      <th>Brand</th>\n",
       "      <th>Repaired</th>\n",
       "      <th>DateCreated</th>\n",
       "      <th>NumberOfPictures</th>\n",
       "      <th>PostalCode</th>\n",
       "      <th>LastSeen</th>\n",
       "    </tr>\n",
       "  </thead>\n",
       "  <tbody>\n",
       "    <tr>\n",
       "      <th>0</th>\n",
       "      <td>2016-03-24 11:52:17</td>\n",
       "      <td>480</td>\n",
       "      <td>NaN</td>\n",
       "      <td>1993</td>\n",
       "      <td>manual</td>\n",
       "      <td>0</td>\n",
       "      <td>golf</td>\n",
       "      <td>150000</td>\n",
       "      <td>0</td>\n",
       "      <td>petrol</td>\n",
       "      <td>volkswagen</td>\n",
       "      <td>NaN</td>\n",
       "      <td>2016-03-24 00:00:00</td>\n",
       "      <td>0</td>\n",
       "      <td>70435</td>\n",
       "      <td>2016-04-07 03:16:57</td>\n",
       "    </tr>\n",
       "    <tr>\n",
       "      <th>1</th>\n",
       "      <td>2016-03-24 10:58:45</td>\n",
       "      <td>18300</td>\n",
       "      <td>coupe</td>\n",
       "      <td>2011</td>\n",
       "      <td>manual</td>\n",
       "      <td>190</td>\n",
       "      <td>NaN</td>\n",
       "      <td>125000</td>\n",
       "      <td>5</td>\n",
       "      <td>gasoline</td>\n",
       "      <td>audi</td>\n",
       "      <td>yes</td>\n",
       "      <td>2016-03-24 00:00:00</td>\n",
       "      <td>0</td>\n",
       "      <td>66954</td>\n",
       "      <td>2016-04-07 01:46:50</td>\n",
       "    </tr>\n",
       "    <tr>\n",
       "      <th>2</th>\n",
       "      <td>2016-03-14 12:52:21</td>\n",
       "      <td>9800</td>\n",
       "      <td>suv</td>\n",
       "      <td>2004</td>\n",
       "      <td>auto</td>\n",
       "      <td>163</td>\n",
       "      <td>grand</td>\n",
       "      <td>125000</td>\n",
       "      <td>8</td>\n",
       "      <td>gasoline</td>\n",
       "      <td>jeep</td>\n",
       "      <td>NaN</td>\n",
       "      <td>2016-03-14 00:00:00</td>\n",
       "      <td>0</td>\n",
       "      <td>90480</td>\n",
       "      <td>2016-04-05 12:47:46</td>\n",
       "    </tr>\n",
       "    <tr>\n",
       "      <th>3</th>\n",
       "      <td>2016-03-17 16:54:04</td>\n",
       "      <td>1500</td>\n",
       "      <td>small</td>\n",
       "      <td>2001</td>\n",
       "      <td>manual</td>\n",
       "      <td>75</td>\n",
       "      <td>golf</td>\n",
       "      <td>150000</td>\n",
       "      <td>6</td>\n",
       "      <td>petrol</td>\n",
       "      <td>volkswagen</td>\n",
       "      <td>no</td>\n",
       "      <td>2016-03-17 00:00:00</td>\n",
       "      <td>0</td>\n",
       "      <td>91074</td>\n",
       "      <td>2016-03-17 17:40:17</td>\n",
       "    </tr>\n",
       "    <tr>\n",
       "      <th>4</th>\n",
       "      <td>2016-03-31 17:25:20</td>\n",
       "      <td>3600</td>\n",
       "      <td>small</td>\n",
       "      <td>2008</td>\n",
       "      <td>manual</td>\n",
       "      <td>69</td>\n",
       "      <td>fabia</td>\n",
       "      <td>90000</td>\n",
       "      <td>7</td>\n",
       "      <td>gasoline</td>\n",
       "      <td>skoda</td>\n",
       "      <td>no</td>\n",
       "      <td>2016-03-31 00:00:00</td>\n",
       "      <td>0</td>\n",
       "      <td>60437</td>\n",
       "      <td>2016-04-06 10:17:21</td>\n",
       "    </tr>\n",
       "  </tbody>\n",
       "</table>\n",
       "</div>"
      ],
      "text/plain": [
       "           DateCrawled  Price VehicleType  RegistrationYear Gearbox  Power  \\\n",
       "0  2016-03-24 11:52:17    480         NaN              1993  manual      0   \n",
       "1  2016-03-24 10:58:45  18300       coupe              2011  manual    190   \n",
       "2  2016-03-14 12:52:21   9800         suv              2004    auto    163   \n",
       "3  2016-03-17 16:54:04   1500       small              2001  manual     75   \n",
       "4  2016-03-31 17:25:20   3600       small              2008  manual     69   \n",
       "\n",
       "   Model  Kilometer  RegistrationMonth  FuelType       Brand Repaired  \\\n",
       "0   golf     150000                  0    petrol  volkswagen      NaN   \n",
       "1    NaN     125000                  5  gasoline        audi      yes   \n",
       "2  grand     125000                  8  gasoline        jeep      NaN   \n",
       "3   golf     150000                  6    petrol  volkswagen       no   \n",
       "4  fabia      90000                  7  gasoline       skoda       no   \n",
       "\n",
       "           DateCreated  NumberOfPictures  PostalCode             LastSeen  \n",
       "0  2016-03-24 00:00:00                 0       70435  2016-04-07 03:16:57  \n",
       "1  2016-03-24 00:00:00                 0       66954  2016-04-07 01:46:50  \n",
       "2  2016-03-14 00:00:00                 0       90480  2016-04-05 12:47:46  \n",
       "3  2016-03-17 00:00:00                 0       91074  2016-03-17 17:40:17  \n",
       "4  2016-03-31 00:00:00                 0       60437  2016-04-06 10:17:21  "
      ]
     },
     "metadata": {},
     "output_type": "display_data"
    },
    {
     "name": "stdout",
     "output_type": "stream",
     "text": [
      "<class 'pandas.core.frame.DataFrame'>\n",
      "RangeIndex: 354369 entries, 0 to 354368\n",
      "Data columns (total 16 columns):\n",
      " #   Column             Non-Null Count   Dtype \n",
      "---  ------             --------------   ----- \n",
      " 0   DateCrawled        354369 non-null  object\n",
      " 1   Price              354369 non-null  int64 \n",
      " 2   VehicleType        316879 non-null  object\n",
      " 3   RegistrationYear   354369 non-null  int64 \n",
      " 4   Gearbox            334536 non-null  object\n",
      " 5   Power              354369 non-null  int64 \n",
      " 6   Model              334664 non-null  object\n",
      " 7   Kilometer          354369 non-null  int64 \n",
      " 8   RegistrationMonth  354369 non-null  int64 \n",
      " 9   FuelType           321474 non-null  object\n",
      " 10  Brand              354369 non-null  object\n",
      " 11  Repaired           283215 non-null  object\n",
      " 12  DateCreated        354369 non-null  object\n",
      " 13  NumberOfPictures   354369 non-null  int64 \n",
      " 14  PostalCode         354369 non-null  int64 \n",
      " 15  LastSeen           354369 non-null  object\n",
      "dtypes: int64(7), object(9)\n",
      "memory usage: 43.3+ MB\n"
     ]
    },
    {
     "data": {
      "text/html": [
       "<div>\n",
       "<style scoped>\n",
       "    .dataframe tbody tr th:only-of-type {\n",
       "        vertical-align: middle;\n",
       "    }\n",
       "\n",
       "    .dataframe tbody tr th {\n",
       "        vertical-align: top;\n",
       "    }\n",
       "\n",
       "    .dataframe thead th {\n",
       "        text-align: right;\n",
       "    }\n",
       "</style>\n",
       "<table border=\"1\" class=\"dataframe\">\n",
       "  <thead>\n",
       "    <tr style=\"text-align: right;\">\n",
       "      <th></th>\n",
       "      <th>Price</th>\n",
       "      <th>RegistrationYear</th>\n",
       "      <th>Power</th>\n",
       "      <th>Kilometer</th>\n",
       "      <th>RegistrationMonth</th>\n",
       "      <th>NumberOfPictures</th>\n",
       "      <th>PostalCode</th>\n",
       "    </tr>\n",
       "  </thead>\n",
       "  <tbody>\n",
       "    <tr>\n",
       "      <th>count</th>\n",
       "      <td>354369.000000</td>\n",
       "      <td>354369.000000</td>\n",
       "      <td>354369.000000</td>\n",
       "      <td>354369.000000</td>\n",
       "      <td>354369.000000</td>\n",
       "      <td>354369.0</td>\n",
       "      <td>354369.000000</td>\n",
       "    </tr>\n",
       "    <tr>\n",
       "      <th>mean</th>\n",
       "      <td>4416.656776</td>\n",
       "      <td>2004.234448</td>\n",
       "      <td>110.094337</td>\n",
       "      <td>128211.172535</td>\n",
       "      <td>5.714645</td>\n",
       "      <td>0.0</td>\n",
       "      <td>50508.689087</td>\n",
       "    </tr>\n",
       "    <tr>\n",
       "      <th>std</th>\n",
       "      <td>4514.158514</td>\n",
       "      <td>90.227958</td>\n",
       "      <td>189.850405</td>\n",
       "      <td>37905.341530</td>\n",
       "      <td>3.726421</td>\n",
       "      <td>0.0</td>\n",
       "      <td>25783.096248</td>\n",
       "    </tr>\n",
       "    <tr>\n",
       "      <th>min</th>\n",
       "      <td>0.000000</td>\n",
       "      <td>1000.000000</td>\n",
       "      <td>0.000000</td>\n",
       "      <td>5000.000000</td>\n",
       "      <td>0.000000</td>\n",
       "      <td>0.0</td>\n",
       "      <td>1067.000000</td>\n",
       "    </tr>\n",
       "    <tr>\n",
       "      <th>25%</th>\n",
       "      <td>1050.000000</td>\n",
       "      <td>1999.000000</td>\n",
       "      <td>69.000000</td>\n",
       "      <td>125000.000000</td>\n",
       "      <td>3.000000</td>\n",
       "      <td>0.0</td>\n",
       "      <td>30165.000000</td>\n",
       "    </tr>\n",
       "    <tr>\n",
       "      <th>50%</th>\n",
       "      <td>2700.000000</td>\n",
       "      <td>2003.000000</td>\n",
       "      <td>105.000000</td>\n",
       "      <td>150000.000000</td>\n",
       "      <td>6.000000</td>\n",
       "      <td>0.0</td>\n",
       "      <td>49413.000000</td>\n",
       "    </tr>\n",
       "    <tr>\n",
       "      <th>75%</th>\n",
       "      <td>6400.000000</td>\n",
       "      <td>2008.000000</td>\n",
       "      <td>143.000000</td>\n",
       "      <td>150000.000000</td>\n",
       "      <td>9.000000</td>\n",
       "      <td>0.0</td>\n",
       "      <td>71083.000000</td>\n",
       "    </tr>\n",
       "    <tr>\n",
       "      <th>max</th>\n",
       "      <td>20000.000000</td>\n",
       "      <td>9999.000000</td>\n",
       "      <td>20000.000000</td>\n",
       "      <td>150000.000000</td>\n",
       "      <td>12.000000</td>\n",
       "      <td>0.0</td>\n",
       "      <td>99998.000000</td>\n",
       "    </tr>\n",
       "  </tbody>\n",
       "</table>\n",
       "</div>"
      ],
      "text/plain": [
       "               Price  RegistrationYear          Power      Kilometer  \\\n",
       "count  354369.000000     354369.000000  354369.000000  354369.000000   \n",
       "mean     4416.656776       2004.234448     110.094337  128211.172535   \n",
       "std      4514.158514         90.227958     189.850405   37905.341530   \n",
       "min         0.000000       1000.000000       0.000000    5000.000000   \n",
       "25%      1050.000000       1999.000000      69.000000  125000.000000   \n",
       "50%      2700.000000       2003.000000     105.000000  150000.000000   \n",
       "75%      6400.000000       2008.000000     143.000000  150000.000000   \n",
       "max     20000.000000       9999.000000   20000.000000  150000.000000   \n",
       "\n",
       "       RegistrationMonth  NumberOfPictures     PostalCode  \n",
       "count      354369.000000          354369.0  354369.000000  \n",
       "mean            5.714645               0.0   50508.689087  \n",
       "std             3.726421               0.0   25783.096248  \n",
       "min             0.000000               0.0    1067.000000  \n",
       "25%             3.000000               0.0   30165.000000  \n",
       "50%             6.000000               0.0   49413.000000  \n",
       "75%             9.000000               0.0   71083.000000  \n",
       "max            12.000000               0.0   99998.000000  "
      ]
     },
     "metadata": {},
     "output_type": "display_data"
    },
    {
     "name": "stdout",
     "output_type": "stream",
     "text": [
      "Количество полных дубликатов: 4\n"
     ]
    }
   ],
   "source": [
    "description_df(df)"
   ]
  },
  {
   "cell_type": "markdown",
   "id": "f0f72f7b",
   "metadata": {},
   "source": [
    "Сразу видим, что в данных довольно много пропусков. Выведем количество пропущенных данных по каждому столбцу в процентах:"
   ]
  },
  {
   "cell_type": "code",
   "execution_count": 9,
   "id": "84fdff75",
   "metadata": {},
   "outputs": [
    {
     "data": {
      "text/plain": [
       "DateCrawled           0.00\n",
       "Price                 0.00\n",
       "VehicleType          10.58\n",
       "RegistrationYear      0.00\n",
       "Gearbox               5.60\n",
       "Power                 0.00\n",
       "Model                 5.56\n",
       "Kilometer             0.00\n",
       "RegistrationMonth     0.00\n",
       "FuelType              9.28\n",
       "Brand                 0.00\n",
       "Repaired             20.08\n",
       "DateCreated           0.00\n",
       "NumberOfPictures      0.00\n",
       "PostalCode            0.00\n",
       "LastSeen              0.00\n",
       "dtype: float64"
      ]
     },
     "execution_count": 9,
     "metadata": {},
     "output_type": "execute_result"
    }
   ],
   "source": [
    "(df.isna().mean() * 100).round(2)"
   ]
  },
  {
   "cell_type": "markdown",
   "id": "0518a3a7",
   "metadata": {},
   "source": [
    "**Вывод:**  \n",
    "* Некоторые столбцы не несут в себе полезной для обучения моделей информации, их потребуется удалить;\n",
    "* Названия столбцов датафрейма не соответствуют \"хорошему стилю\" - необходимо будет переименовать столбцы;\n",
    "* В данных имеются полные дубликаты, их также необходимо будет удалить. После этого проведем проверку на неявные дубликаты;\n",
    "* По значениям количественных признаков наблюдается присутствие аномальных значений. Необходимо проверить распределения признаков и устранить выбросы;\n",
    "* Также присутствует довольно много пропусков. Возможно некоторые из них устранятся после устранения выбросов."
   ]
  },
  {
   "cell_type": "markdown",
   "id": "163c7d27",
   "metadata": {},
   "source": [
    "### Предобработка данных"
   ]
  },
  {
   "cell_type": "code",
   "execution_count": 10,
   "id": "5b4aab27",
   "metadata": {},
   "outputs": [
    {
     "data": {
      "text/plain": [
       "['DateCrawled',\n",
       " 'Price',\n",
       " 'VehicleType',\n",
       " 'RegistrationYear',\n",
       " 'Gearbox',\n",
       " 'Power',\n",
       " 'Model',\n",
       " 'Kilometer',\n",
       " 'RegistrationMonth',\n",
       " 'FuelType',\n",
       " 'Brand',\n",
       " 'Repaired',\n",
       " 'DateCreated',\n",
       " 'NumberOfPictures',\n",
       " 'PostalCode',\n",
       " 'LastSeen']"
      ]
     },
     "execution_count": 10,
     "metadata": {},
     "output_type": "execute_result"
    }
   ],
   "source": [
    "# Выведем названия всех столбцов\n",
    "list(df)"
   ]
  },
  {
   "cell_type": "markdown",
   "id": "46ede470",
   "metadata": {},
   "source": [
    "Приведем названия столбцов в соответствие \"хорошему стилю\""
   ]
  },
  {
   "cell_type": "code",
   "execution_count": 11,
   "id": "b191e968",
   "metadata": {},
   "outputs": [
    {
     "data": {
      "text/plain": [
       "['date_crawled',\n",
       " 'price',\n",
       " 'vehicle_type',\n",
       " 'registration_year',\n",
       " 'gearbox',\n",
       " 'power',\n",
       " 'model',\n",
       " 'kilometer',\n",
       " 'registration_month',\n",
       " 'fuel_type',\n",
       " 'brand',\n",
       " 'repaired',\n",
       " 'date_created',\n",
       " 'number_of_pictures',\n",
       " 'postal_code',\n",
       " 'last_seen']"
      ]
     },
     "execution_count": 11,
     "metadata": {},
     "output_type": "execute_result"
    }
   ],
   "source": [
    "df = df.rename(columns={'DateCrawled': 'date_crawled',\n",
    "                        'Price': 'price',\n",
    "                        'VehicleType': 'vehicle_type',\n",
    "                        'RegistrationYear': 'registration_year',\n",
    "                        'Gearbox': 'gearbox',\n",
    "                        'Power': 'power',\n",
    "                        'Model': 'model',\n",
    "                        'Kilometer': 'kilometer',\n",
    "                        'RegistrationMonth': 'registration_month',\n",
    "                        'FuelType': 'fuel_type',\n",
    "                        'Brand': 'brand',\n",
    "                        'Repaired': 'repaired',\n",
    "                        'DateCreated': 'date_created',\n",
    "                        'NumberOfPictures': 'number_of_pictures',\n",
    "                        'PostalCode': 'postal_code',\n",
    "                        'LastSeen': 'last_seen'})\n",
    "list(df)"
   ]
  },
  {
   "cell_type": "markdown",
   "id": "994b1ca2",
   "metadata": {},
   "source": [
    "Проверим неявные дубликаты в столбцах `vehicle_type`, `gearbox`, `model`, `fuel_type`, `brand` и `repaired`. Для этого выведем все уникальные значения данных столбцов:"
   ]
  },
  {
   "cell_type": "code",
   "execution_count": 12,
   "id": "22de76f8",
   "metadata": {},
   "outputs": [
    {
     "name": "stdout",
     "output_type": "stream",
     "text": [
      "vehicle_type \n",
      " [nan 'coupe' 'suv' 'small' 'sedan' 'convertible' 'bus' 'wagon' 'other'] \n",
      "\n",
      "gearbox \n",
      " ['manual' 'auto' nan] \n",
      "\n",
      "model \n",
      " ['golf' nan 'grand' 'fabia' '3er' '2_reihe' 'other' 'c_max' '3_reihe'\n",
      " 'passat' 'navara' 'ka' 'polo' 'twingo' 'a_klasse' 'scirocco' '5er'\n",
      " 'meriva' 'arosa' 'c4' 'civic' 'transporter' 'punto' 'e_klasse' 'clio'\n",
      " 'kadett' 'kangoo' 'corsa' 'one' 'fortwo' '1er' 'b_klasse' 'signum'\n",
      " 'astra' 'a8' 'jetta' 'fiesta' 'c_klasse' 'micra' 'vito' 'sprinter' '156'\n",
      " 'escort' 'forester' 'xc_reihe' 'scenic' 'a4' 'a1' 'insignia' 'combo'\n",
      " 'focus' 'tt' 'a6' 'jazz' 'omega' 'slk' '7er' '80' '147' '100' 'z_reihe'\n",
      " 'sportage' 'sorento' 'v40' 'ibiza' 'mustang' 'eos' 'touran' 'getz' 'a3'\n",
      " 'almera' 'megane' 'lupo' 'r19' 'zafira' 'caddy' 'mondeo' 'cordoba' 'colt'\n",
      " 'impreza' 'vectra' 'berlingo' 'tiguan' 'i_reihe' 'espace' 'sharan'\n",
      " '6_reihe' 'panda' 'up' 'seicento' 'ceed' '5_reihe' 'yeti' 'octavia' 'mii'\n",
      " 'rx_reihe' '6er' 'modus' 'fox' 'matiz' 'beetle' 'c1' 'rio' 'touareg'\n",
      " 'logan' 'spider' 'cuore' 's_max' 'a2' 'galaxy' 'c3' 'viano' 's_klasse'\n",
      " '1_reihe' 'avensis' 'roomster' 'sl' 'kaefer' 'santa' 'cooper' 'leon'\n",
      " '4_reihe' 'a5' '500' 'laguna' 'ptcruiser' 'clk' 'primera' 'x_reihe'\n",
      " 'exeo' '159' 'transit' 'juke' 'qashqai' 'carisma' 'accord' 'corolla'\n",
      " 'lanos' 'phaeton' 'verso' 'swift' 'rav' 'picanto' 'boxster' 'kalos'\n",
      " 'superb' 'stilo' 'alhambra' 'mx_reihe' 'roadster' 'ypsilon' 'cayenne'\n",
      " 'galant' 'justy' '90' 'sirion' 'crossfire' 'agila' 'duster' 'cr_reihe'\n",
      " 'v50' 'c_reihe' 'v_klasse' 'm_klasse' 'yaris' 'c5' 'aygo' 'cc' 'carnival'\n",
      " 'fusion' '911' 'bora' 'forfour' 'm_reihe' 'cl' 'tigra' '300c' 'spark'\n",
      " 'v70' 'kuga' 'x_type' 'ducato' 's_type' 'x_trail' 'toledo' 'altea'\n",
      " 'voyager' 'calibra' 'bravo' 'antara' 'tucson' 'citigo' 'jimny' 'wrangler'\n",
      " 'lybra' 'q7' 'lancer' 'captiva' 'c2' 'discovery' 'freelander' 'sandero'\n",
      " 'note' '900' 'cherokee' 'clubman' 'samara' 'defender' '601' 'cx_reihe'\n",
      " 'legacy' 'pajero' 'auris' 'niva' 's60' 'nubira' 'vivaro' 'g_klasse'\n",
      " 'lodgy' '850' 'range_rover' 'q3' 'serie_2' 'glk' 'charade' 'croma'\n",
      " 'outlander' 'doblo' 'musa' 'move' '9000' 'v60' '145' 'aveo' '200' 'b_max'\n",
      " 'range_rover_sport' 'terios' 'rangerover' 'q5' 'range_rover_evoque'\n",
      " 'materia' 'delta' 'gl' 'kalina' 'amarok' 'elefantino' 'i3' 'kappa'\n",
      " 'serie_3' 'serie_1'] \n",
      "\n",
      "fuel_type \n",
      " ['petrol' 'gasoline' nan 'lpg' 'other' 'hybrid' 'cng' 'electric'] \n",
      "\n",
      "brand \n",
      " ['volkswagen' 'audi' 'jeep' 'skoda' 'bmw' 'peugeot' 'ford' 'mazda'\n",
      " 'nissan' 'renault' 'mercedes_benz' 'opel' 'seat' 'citroen' 'honda' 'fiat'\n",
      " 'mini' 'smart' 'hyundai' 'sonstige_autos' 'alfa_romeo' 'subaru' 'volvo'\n",
      " 'mitsubishi' 'kia' 'suzuki' 'lancia' 'toyota' 'chevrolet' 'dacia'\n",
      " 'daihatsu' 'trabant' 'saab' 'chrysler' 'jaguar' 'daewoo' 'porsche'\n",
      " 'rover' 'land_rover' 'lada'] \n",
      "\n",
      "repaired \n",
      " [nan 'yes' 'no'] \n",
      "\n"
     ]
    }
   ],
   "source": [
    "# Создадим датафрейм с указанными столбцами\n",
    "df_unique = df[['vehicle_type',\n",
    "               'gearbox',\n",
    "               'model',\n",
    "               'fuel_type',\n",
    "               'brand',\n",
    "               'repaired']]\n",
    "# Выведем уникальные значения каждого столбца\n",
    "for column in df_unique.columns:\n",
    "    print(column, '\\n', df[column].unique(), '\\n') "
   ]
  },
  {
   "cell_type": "markdown",
   "id": "70a04513",
   "metadata": {},
   "source": [
    "В столбце `brand` пропуски отсутствуют.  \n",
    "\n",
    "В столбцах `vehicle_type`, `gearbox`, `model` и `fuel_type` заменим `nan` на категориальную моду (наиболее часто встречающуюся категорию) в зависимости от определенных групп столбцов. Для этого создадим отдельный класс заполнения пропусков:"
   ]
  },
  {
   "cell_type": "code",
   "execution_count": 13,
   "id": "e1934cc2",
   "metadata": {},
   "outputs": [],
   "source": [
    "class FillNan:\n",
    "    def data_object(self, column_fill, column_group_1, column_group_2, data=df):\n",
    "        '''\n",
    "        функция заполнения пропусков для типа данных object\n",
    "        '''\n",
    "        data[column_fill] = data.groupby([column_group_1, column_group_2])[column_fill].transform(\n",
    "                                    lambda x: x.fillna(x.mode()[0] if not x.mode().empty else 'unknown'))\n",
    "        \n",
    "    def data_num(self, column_fill, column_group_1, column_group_2, data=df):\n",
    "        '''\n",
    "        функция заполнения пропусков для типа данных numerical\n",
    "        '''\n",
    "        data[column_fill] = data.groupby([column_group_1, column_group_2])[column_fill].transform(\n",
    "                                    lambda x: x.fillna(x.mode()[0] if not x.mode().empty else np.nan))"
   ]
  },
  {
   "cell_type": "code",
   "execution_count": 14,
   "id": "4a1da65c",
   "metadata": {},
   "outputs": [],
   "source": [
    "fill_nan = FillNan()"
   ]
  },
  {
   "cell_type": "markdown",
   "id": "856960bb",
   "metadata": {},
   "source": [
    "Пропуски моделей заполним в зависимости от бренда и количества лошадиных сил.   \n",
    "\n",
    "Пропуски для типа кузова, коробки передач и типа топлива заполним в зависимости от бренда и модели авто.   \n",
    "\n",
    "Во всех случаях если какие-либо значения будут отсутствовать - проставим значение `unknown`."
   ]
  },
  {
   "cell_type": "code",
   "execution_count": 15,
   "id": "80303ccc",
   "metadata": {},
   "outputs": [],
   "source": [
    "fill_nan.data_object('model', 'brand', 'power')"
   ]
  },
  {
   "cell_type": "code",
   "execution_count": 16,
   "id": "785c3662",
   "metadata": {},
   "outputs": [],
   "source": [
    "fill_nan.data_object('vehicle_type', 'brand', 'model')"
   ]
  },
  {
   "cell_type": "code",
   "execution_count": 17,
   "id": "cbf029b9",
   "metadata": {},
   "outputs": [],
   "source": [
    "fill_nan.data_object('gearbox', 'brand', 'model')"
   ]
  },
  {
   "cell_type": "code",
   "execution_count": 18,
   "id": "6d8f4a97",
   "metadata": {},
   "outputs": [],
   "source": [
    "fill_nan.data_object('fuel_type', 'brand', 'model')"
   ]
  },
  {
   "cell_type": "markdown",
   "id": "eece197d",
   "metadata": {},
   "source": [
    "На счет заполнения столбца `repaired` нельзя однозначно сказать можно ли в нем заполнить пропуски `nan` на `yes` или `no`, т.к. в зависимости от того или иного ответа стоимость автомобиля может быть различной. Посчитаем среднюю стоимость автомобилей для каждого значения:"
   ]
  },
  {
   "cell_type": "code",
   "execution_count": 19,
   "id": "334ac939",
   "metadata": {},
   "outputs": [
    {
     "name": "stdout",
     "output_type": "stream",
     "text": [
      "Средняя цена ремонтированного авто: 1916.04\n",
      "Средняя цена не ремонтированного авто: 5296.81\n",
      "Средняя цена неизвестно ремонтированного ли авто: 2626.42\n"
     ]
    }
   ],
   "source": [
    "print('Средняя цена ремонтированного авто:', df[df['repaired'] == 'yes']['price'].mean().round(2))\n",
    "print('Средняя цена не ремонтированного авто:', df[df['repaired'] == 'no']['price'].mean().round(2))\n",
    "print('Средняя цена неизвестно ремонтированного ли авто:', df[(df['repaired'] != 'yes') & (df['repaired'] != 'no')]['price'].mean().round(2))"
   ]
  },
  {
   "cell_type": "markdown",
   "id": "38a99307",
   "metadata": {},
   "source": [
    "На первый вгляд сразу видно, что все стоимости различны. Сформилируем и проверим эту гипотезу для ремонтированных авто:\n",
    "* Основная гипотеза **H₀**: средняя цена ремонтированных автомобилей (`repaired` = `yes`) и неизвестно ремонтированных ли автомобилей (`repaired` = `nan`) одинакова.\n",
    "* Альтернативная гипотеза **H₁**: средняя цена ремонтированных автомобилей (`repaired` = `yes`) и неизвестно ремонтированных ли автомобилей (`repaired` = `nan`) различна."
   ]
  },
  {
   "cell_type": "code",
   "execution_count": 20,
   "id": "65ef53b2",
   "metadata": {},
   "outputs": [
    {
     "name": "stdout",
     "output_type": "stream",
     "text": [
      "p-значение: 6.76283705089867e-266\n",
      "Отвергаем нулевую гипотезу\n"
     ]
    }
   ],
   "source": [
    "# Обозначим уровень значимости\n",
    "alpha = 0.05\n",
    "\n",
    "# Проверим гипотезу о равенстве двух средних\n",
    "results =  st.ttest_ind(df[df['repaired'] == 'yes']['price'], \n",
    "                        df[(df['repaired'] != 'yes') & (df['repaired'] != 'no')]['price'])\n",
    "\n",
    "print('p-значение:', results.pvalue)\n",
    "\n",
    "if (results.pvalue < alpha):\n",
    "    print(\"Отвергаем нулевую гипотезу\")\n",
    "else:\n",
    "    print(\"Не получилось отвергнуть нулевую гипотезу\")"
   ]
  },
  {
   "cell_type": "markdown",
   "id": "43c98d65",
   "metadata": {},
   "source": [
    "Аналогично сформулируем и проверим гипотезу для не ремонтированных авто:\n",
    "* Основная гипотеза **H₀**: средняя цена не ремонтированных автомобилей (`repaired` = `no`) и неизвестно ремонтированных ли автомобилей (`repaired` = `nan`) одинакова.\n",
    "* Альтернативная гипотеза **H₁**: средняя цена не ремонтированных автомобилей (`repaired` = `no`) и неизвестно ремонтированных ли автомобилей (`repaired` = `nan`) различна."
   ]
  },
  {
   "cell_type": "code",
   "execution_count": 21,
   "id": "1d4ae8e0",
   "metadata": {},
   "outputs": [
    {
     "name": "stdout",
     "output_type": "stream",
     "text": [
      "p-значение: 0.0\n",
      "Отвергаем нулевую гипотезу\n"
     ]
    }
   ],
   "source": [
    "# Обозначим уровень значимости\n",
    "alpha = 0.05\n",
    "\n",
    "# Проверим гипотезу о равенстве двух средних\n",
    "results =  st.ttest_ind(df[df['repaired'] == 'no']['price'], \n",
    "                        df[(df['repaired'] != 'yes') & (df['repaired'] != 'no')]['price'])\n",
    "\n",
    "print('p-значение:', results.pvalue)\n",
    "\n",
    "if (results.pvalue < alpha):\n",
    "    print(\"Отвергаем нулевую гипотезу\")\n",
    "else:\n",
    "    print(\"Не получилось отвергнуть нулевую гипотезу\")"
   ]
  },
  {
   "cell_type": "markdown",
   "id": "7bd53a04",
   "metadata": {},
   "source": [
    "Отвергли обе нулевые гипотезы, поэтому предлагается заменить все пропуски данного столбца значением `unknown`."
   ]
  },
  {
   "cell_type": "code",
   "execution_count": 22,
   "id": "ebe4bb6c",
   "metadata": {},
   "outputs": [],
   "source": [
    "df['repaired'] = np.where(((df['repaired'] != 'yes') & (df['repaired'] != 'no')),\n",
    "                         'unknown',\n",
    "                         df.repaired)"
   ]
  },
  {
   "cell_type": "markdown",
   "id": "71b57b44",
   "metadata": {},
   "source": [
    "Еще раз выведем процент имеющихся пропусков в датафрейме"
   ]
  },
  {
   "cell_type": "code",
   "execution_count": 23,
   "id": "8c06af8c",
   "metadata": {
    "scrolled": true
   },
   "outputs": [
    {
     "data": {
      "text/plain": [
       "date_crawled          0.0\n",
       "price                 0.0\n",
       "vehicle_type          0.0\n",
       "registration_year     0.0\n",
       "gearbox               0.0\n",
       "power                 0.0\n",
       "model                 0.0\n",
       "kilometer             0.0\n",
       "registration_month    0.0\n",
       "fuel_type             0.0\n",
       "brand                 0.0\n",
       "repaired              0.0\n",
       "date_created          0.0\n",
       "number_of_pictures    0.0\n",
       "postal_code           0.0\n",
       "last_seen             0.0\n",
       "dtype: float64"
      ]
     },
     "execution_count": 23,
     "metadata": {},
     "output_type": "execute_result"
    }
   ],
   "source": [
    "(df.isna().mean() * 100).round(6)"
   ]
  },
  {
   "cell_type": "markdown",
   "id": "3521eca7",
   "metadata": {},
   "source": [
    "От пропусков избавились, перейдем к анализу распределений и выбросов."
   ]
  },
  {
   "cell_type": "markdown",
   "id": "4c4b2255",
   "metadata": {},
   "source": [
    "Напишем функция для построения распределений:"
   ]
  },
  {
   "cell_type": "code",
   "execution_count": 24,
   "id": "ea5e598f",
   "metadata": {},
   "outputs": [],
   "source": [
    "def hist_df(df, name):\n",
    "    '''\n",
    "    строит гистограмму\n",
    "    '''\n",
    "    plt.figure(figsize=(15,5))\n",
    "    plt.grid(True)\n",
    "    ax = sns.distplot(df, bins=100)\n",
    "    plt.title(name, fontsize=20)"
   ]
  },
  {
   "cell_type": "markdown",
   "id": "769e0b5f",
   "metadata": {},
   "source": [
    "Изучим данные, когда были скачаны анкеты из базы."
   ]
  },
  {
   "cell_type": "code",
   "execution_count": 25,
   "id": "e906aaa2",
   "metadata": {},
   "outputs": [
    {
     "data": {
      "text/plain": [
       "264686   2016-03-09 13:43:06\n",
       "286807   2016-03-23 10:55:26\n",
       "284678   2016-03-23 14:06:17\n",
       "236579   2016-03-19 16:46:47\n",
       "255045   2016-03-20 16:52:59\n",
       "Name: date_crawled, dtype: datetime64[ns]"
      ]
     },
     "execution_count": 25,
     "metadata": {},
     "output_type": "execute_result"
    }
   ],
   "source": [
    "# Преобразуем столбец в формат даты\n",
    "df['date_crawled'] = pd.to_datetime(df['date_crawled'], format='%Y-%m-%d %H:%M:%S')\n",
    "df['date_crawled'].sample(5)"
   ]
  },
  {
   "cell_type": "code",
   "execution_count": 26,
   "id": "ef669190",
   "metadata": {},
   "outputs": [
    {
     "data": {
      "image/png": "[encoded data removed]",
      "text/plain": [
       "<Figure size 1500x500 with 1 Axes>"
      ]
     },
     "metadata": {},
     "output_type": "display_data"
    }
   ],
   "source": [
    "hist_df(df['date_crawled'].dt.year, 'Годы скачивания анкеты из базы')"
   ]
  },
  {
   "cell_type": "markdown",
   "id": "4a6c3818",
   "metadata": {},
   "source": [
    "Все анкеты были скачаны в 2016 году, значит в датафрейме не может быть данных по году выпуска автомобилей после этого года.  \n",
    "При изучении общей информации в столбце `registration_year` замечены аномальные значения (минимум 1000, максимум 9999). Первый автомобиль был выпущен в 1885году. Оставим в датафрейме значения только с 1900 по 2016 год."
   ]
  },
  {
   "cell_type": "code",
   "execution_count": 27,
   "id": "7b3007dc",
   "metadata": {},
   "outputs": [],
   "source": [
    "df = df.query('1900 <= registration_year <= 2016')"
   ]
  },
  {
   "cell_type": "code",
   "execution_count": 28,
   "id": "180c8305",
   "metadata": {},
   "outputs": [
    {
     "data": {
      "image/png": "[encoded data removed]",
      "text/plain": [
       "<Figure size 1500x500 with 1 Axes>"
      ]
     },
     "metadata": {},
     "output_type": "display_data"
    }
   ],
   "source": [
    "hist_df(df['registration_year'], 'Распределение года выпуска автомобилей')"
   ]
  },
  {
   "cell_type": "markdown",
   "id": "2ef5b0ee",
   "metadata": {},
   "source": [
    "Теперь выглядит более правдоподобно, но не единичные значения начинают появляться только после 1960 года. Отбросим все значения до указанного года"
   ]
  },
  {
   "cell_type": "code",
   "execution_count": 29,
   "id": "faf50c0c",
   "metadata": {},
   "outputs": [],
   "source": [
    "df = df.query('1960 <= registration_year')"
   ]
  },
  {
   "cell_type": "code",
   "execution_count": 30,
   "id": "52d23aa2",
   "metadata": {},
   "outputs": [
    {
     "data": {
      "image/png": "[encoded data removed]",
      "text/plain": [
       "<Figure size 1500x500 with 1 Axes>"
      ]
     },
     "metadata": {},
     "output_type": "display_data"
    }
   ],
   "source": [
    "hist_df(df['registration_year'], 'Распределение года выпуска автомобилей')"
   ]
  },
  {
   "cell_type": "markdown",
   "id": "c6b52ef9",
   "metadata": {},
   "source": [
    "Количество лошадиных сил в автомобилей врядли может быть меньше 20 лошадиных сил и точно не может быть более 2000 лошадиных сил (2000л.с. - мощность самого мощного легкового автомобиля в мире названного Dagger GT компании TranStar Racing LLC). Оставим в датафрейме значения только из указанного диапазона."
   ]
  },
  {
   "cell_type": "code",
   "execution_count": 31,
   "id": "6ec1e05f",
   "metadata": {},
   "outputs": [],
   "source": [
    "df = df.query('20 < power < 2000')"
   ]
  },
  {
   "cell_type": "code",
   "execution_count": 32,
   "id": "3edebda7",
   "metadata": {},
   "outputs": [
    {
     "data": {
      "image/png": "[encoded data removed]",
      "text/plain": [
       "<Figure size 1500x500 with 1 Axes>"
      ]
     },
     "metadata": {},
     "output_type": "display_data"
    }
   ],
   "source": [
    "hist_df(df['power'], 'Распределение мощностей автомобилей')"
   ]
  },
  {
   "cell_type": "markdown",
   "id": "16463df5",
   "metadata": {},
   "source": [
    "Похоже, все значения более 400л.с. являются единичными выбросами. Отбросим их и оставим только значения до 400л.с."
   ]
  },
  {
   "cell_type": "code",
   "execution_count": 33,
   "id": "a328d6ae",
   "metadata": {},
   "outputs": [],
   "source": [
    "df = df.query('20 < power < 400')"
   ]
  },
  {
   "cell_type": "code",
   "execution_count": 34,
   "id": "09a6a7ae",
   "metadata": {},
   "outputs": [
    {
     "data": {
      "image/png": "[encoded data removed]",
      "text/plain": [
       "<Figure size 1500x500 with 1 Axes>"
      ]
     },
     "metadata": {},
     "output_type": "display_data"
    }
   ],
   "source": [
    "hist_df(df['power'], 'Распределение мощностей автомобилей')"
   ]
  },
  {
   "cell_type": "markdown",
   "id": "a0492726",
   "metadata": {},
   "source": [
    "Преобладают автомобили эконом сегмента с мощностью до 150л.с., далее с повышению мощностей количество автомобилей падает."
   ]
  },
  {
   "cell_type": "markdown",
   "id": "9c02c3dd",
   "metadata": {},
   "source": [
    "Выведем количество значений по каждому месяцу регистрации"
   ]
  },
  {
   "cell_type": "code",
   "execution_count": 35,
   "id": "85726709",
   "metadata": {},
   "outputs": [
    {
     "data": {
      "text/plain": [
       "3     30777\n",
       "6     28023\n",
       "4     26128\n",
       "5     26039\n",
       "7     24191\n",
       "10    23298\n",
       "12    21558\n",
       "11    21337\n",
       "9     21258\n",
       "1     20509\n",
       "8     20076\n",
       "0     19667\n",
       "2     19158\n",
       "Name: registration_month, dtype: int64"
      ]
     },
     "execution_count": 35,
     "metadata": {},
     "output_type": "execute_result"
    }
   ],
   "source": [
    "df['registration_month'].value_counts()"
   ]
  },
  {
   "cell_type": "markdown",
   "id": "e8b2a58d",
   "metadata": {},
   "source": [
    "Номера месяцев начинаются с 1 и заканчиваются 12 (1 - январь, 2 - февраль, и т.д.). Предположим, что значения 0 обозначают, что месяц не указан."
   ]
  },
  {
   "cell_type": "code",
   "execution_count": 36,
   "id": "ce54025f",
   "metadata": {},
   "outputs": [
    {
     "data": {
      "image/png": "[encoded data removed]",
      "text/plain": [
       "<Figure size 1500x500 with 1 Axes>"
      ]
     },
     "metadata": {},
     "output_type": "display_data"
    }
   ],
   "source": [
    "hist_df(df['registration_month'], 'Распределение месяцев регистрации автомобилей')"
   ]
  },
  {
   "cell_type": "markdown",
   "id": "490b9294",
   "metadata": {},
   "source": [
    "Данные по месяцу регистрации распределены более-менее равномерно."
   ]
  },
  {
   "cell_type": "markdown",
   "id": "c7eda68c",
   "metadata": {},
   "source": [
    "Данные по пробегу (столбец `kilometer`) трогать не будем. Судя по общей информации представленные данные - логичные."
   ]
  },
  {
   "cell_type": "markdown",
   "id": "f681cffa",
   "metadata": {},
   "source": [
    "В целевом признаке - цена (`price`), при изучении общей информации обнаружили минимальное значение 0. Выведем строки, в которых цена на авто равнялась 0:"
   ]
  },
  {
   "cell_type": "code",
   "execution_count": 37,
   "id": "3e961985",
   "metadata": {},
   "outputs": [
    {
     "data": {
      "text/html": [
       "<div>\n",
       "<style scoped>\n",
       "    .dataframe tbody tr th:only-of-type {\n",
       "        vertical-align: middle;\n",
       "    }\n",
       "\n",
       "    .dataframe tbody tr th {\n",
       "        vertical-align: top;\n",
       "    }\n",
       "\n",
       "    .dataframe thead th {\n",
       "        text-align: right;\n",
       "    }\n",
       "</style>\n",
       "<table border=\"1\" class=\"dataframe\">\n",
       "  <thead>\n",
       "    <tr style=\"text-align: right;\">\n",
       "      <th></th>\n",
       "      <th>date_crawled</th>\n",
       "      <th>price</th>\n",
       "      <th>vehicle_type</th>\n",
       "      <th>registration_year</th>\n",
       "      <th>gearbox</th>\n",
       "      <th>power</th>\n",
       "      <th>model</th>\n",
       "      <th>kilometer</th>\n",
       "      <th>registration_month</th>\n",
       "      <th>fuel_type</th>\n",
       "      <th>brand</th>\n",
       "      <th>repaired</th>\n",
       "      <th>date_created</th>\n",
       "      <th>number_of_pictures</th>\n",
       "      <th>postal_code</th>\n",
       "      <th>last_seen</th>\n",
       "    </tr>\n",
       "  </thead>\n",
       "  <tbody>\n",
       "    <tr>\n",
       "      <th>7</th>\n",
       "      <td>2016-03-21 18:54:38</td>\n",
       "      <td>0</td>\n",
       "      <td>sedan</td>\n",
       "      <td>1980</td>\n",
       "      <td>manual</td>\n",
       "      <td>50</td>\n",
       "      <td>other</td>\n",
       "      <td>40000</td>\n",
       "      <td>7</td>\n",
       "      <td>petrol</td>\n",
       "      <td>volkswagen</td>\n",
       "      <td>no</td>\n",
       "      <td>2016-03-21 00:00:00</td>\n",
       "      <td>0</td>\n",
       "      <td>19348</td>\n",
       "      <td>2016-03-25 16:47:58</td>\n",
       "    </tr>\n",
       "    <tr>\n",
       "      <th>152</th>\n",
       "      <td>2016-03-11 18:55:53</td>\n",
       "      <td>0</td>\n",
       "      <td>bus</td>\n",
       "      <td>2004</td>\n",
       "      <td>manual</td>\n",
       "      <td>101</td>\n",
       "      <td>meriva</td>\n",
       "      <td>150000</td>\n",
       "      <td>10</td>\n",
       "      <td>lpg</td>\n",
       "      <td>opel</td>\n",
       "      <td>yes</td>\n",
       "      <td>2016-03-11 00:00:00</td>\n",
       "      <td>0</td>\n",
       "      <td>27432</td>\n",
       "      <td>2016-03-12 23:47:10</td>\n",
       "    </tr>\n",
       "    <tr>\n",
       "      <th>231</th>\n",
       "      <td>2016-03-16 22:06:24</td>\n",
       "      <td>0</td>\n",
       "      <td>wagon</td>\n",
       "      <td>2001</td>\n",
       "      <td>manual</td>\n",
       "      <td>115</td>\n",
       "      <td>mondeo</td>\n",
       "      <td>150000</td>\n",
       "      <td>0</td>\n",
       "      <td>petrol</td>\n",
       "      <td>ford</td>\n",
       "      <td>unknown</td>\n",
       "      <td>2016-03-16 00:00:00</td>\n",
       "      <td>0</td>\n",
       "      <td>57627</td>\n",
       "      <td>2016-03-26 11:17:50</td>\n",
       "    </tr>\n",
       "    <tr>\n",
       "      <th>466</th>\n",
       "      <td>2016-03-24 10:58:40</td>\n",
       "      <td>0</td>\n",
       "      <td>sedan</td>\n",
       "      <td>2016</td>\n",
       "      <td>auto</td>\n",
       "      <td>197</td>\n",
       "      <td>3er</td>\n",
       "      <td>150000</td>\n",
       "      <td>12</td>\n",
       "      <td>gasoline</td>\n",
       "      <td>bmw</td>\n",
       "      <td>no</td>\n",
       "      <td>2016-03-24 00:00:00</td>\n",
       "      <td>0</td>\n",
       "      <td>99867</td>\n",
       "      <td>2016-03-25 19:46:09</td>\n",
       "    </tr>\n",
       "    <tr>\n",
       "      <th>524</th>\n",
       "      <td>2016-03-25 22:53:44</td>\n",
       "      <td>0</td>\n",
       "      <td>bus</td>\n",
       "      <td>2005</td>\n",
       "      <td>manual</td>\n",
       "      <td>136</td>\n",
       "      <td>verso</td>\n",
       "      <td>100000</td>\n",
       "      <td>10</td>\n",
       "      <td>petrol</td>\n",
       "      <td>toyota</td>\n",
       "      <td>unknown</td>\n",
       "      <td>2016-03-25 00:00:00</td>\n",
       "      <td>0</td>\n",
       "      <td>86163</td>\n",
       "      <td>2016-03-26 07:44:30</td>\n",
       "    </tr>\n",
       "    <tr>\n",
       "      <th>...</th>\n",
       "      <td>...</td>\n",
       "      <td>...</td>\n",
       "      <td>...</td>\n",
       "      <td>...</td>\n",
       "      <td>...</td>\n",
       "      <td>...</td>\n",
       "      <td>...</td>\n",
       "      <td>...</td>\n",
       "      <td>...</td>\n",
       "      <td>...</td>\n",
       "      <td>...</td>\n",
       "      <td>...</td>\n",
       "      <td>...</td>\n",
       "      <td>...</td>\n",
       "      <td>...</td>\n",
       "      <td>...</td>\n",
       "    </tr>\n",
       "    <tr>\n",
       "      <th>354175</th>\n",
       "      <td>2016-03-20 17:55:27</td>\n",
       "      <td>0</td>\n",
       "      <td>small</td>\n",
       "      <td>1995</td>\n",
       "      <td>manual</td>\n",
       "      <td>45</td>\n",
       "      <td>polo</td>\n",
       "      <td>150000</td>\n",
       "      <td>0</td>\n",
       "      <td>petrol</td>\n",
       "      <td>volkswagen</td>\n",
       "      <td>unknown</td>\n",
       "      <td>2016-03-20 00:00:00</td>\n",
       "      <td>0</td>\n",
       "      <td>2625</td>\n",
       "      <td>2016-04-07 00:46:35</td>\n",
       "    </tr>\n",
       "    <tr>\n",
       "      <th>354205</th>\n",
       "      <td>2016-03-09 15:56:30</td>\n",
       "      <td>0</td>\n",
       "      <td>small</td>\n",
       "      <td>2000</td>\n",
       "      <td>manual</td>\n",
       "      <td>65</td>\n",
       "      <td>corsa</td>\n",
       "      <td>150000</td>\n",
       "      <td>0</td>\n",
       "      <td>petrol</td>\n",
       "      <td>opel</td>\n",
       "      <td>yes</td>\n",
       "      <td>2016-03-09 00:00:00</td>\n",
       "      <td>0</td>\n",
       "      <td>23758</td>\n",
       "      <td>2016-03-30 11:16:08</td>\n",
       "    </tr>\n",
       "    <tr>\n",
       "      <th>354238</th>\n",
       "      <td>2016-03-20 14:55:07</td>\n",
       "      <td>0</td>\n",
       "      <td>small</td>\n",
       "      <td>2002</td>\n",
       "      <td>manual</td>\n",
       "      <td>60</td>\n",
       "      <td>fiesta</td>\n",
       "      <td>150000</td>\n",
       "      <td>3</td>\n",
       "      <td>petrol</td>\n",
       "      <td>ford</td>\n",
       "      <td>unknown</td>\n",
       "      <td>2016-03-20 00:00:00</td>\n",
       "      <td>0</td>\n",
       "      <td>33659</td>\n",
       "      <td>2016-04-06 18:45:23</td>\n",
       "    </tr>\n",
       "    <tr>\n",
       "      <th>354248</th>\n",
       "      <td>2016-03-24 13:48:05</td>\n",
       "      <td>0</td>\n",
       "      <td>small</td>\n",
       "      <td>1999</td>\n",
       "      <td>manual</td>\n",
       "      <td>53</td>\n",
       "      <td>swift</td>\n",
       "      <td>150000</td>\n",
       "      <td>3</td>\n",
       "      <td>petrol</td>\n",
       "      <td>suzuki</td>\n",
       "      <td>unknown</td>\n",
       "      <td>2016-03-24 00:00:00</td>\n",
       "      <td>0</td>\n",
       "      <td>42329</td>\n",
       "      <td>2016-04-07 05:17:24</td>\n",
       "    </tr>\n",
       "    <tr>\n",
       "      <th>354277</th>\n",
       "      <td>2016-03-10 22:55:50</td>\n",
       "      <td>0</td>\n",
       "      <td>small</td>\n",
       "      <td>1999</td>\n",
       "      <td>manual</td>\n",
       "      <td>37</td>\n",
       "      <td>arosa</td>\n",
       "      <td>150000</td>\n",
       "      <td>7</td>\n",
       "      <td>petrol</td>\n",
       "      <td>seat</td>\n",
       "      <td>yes</td>\n",
       "      <td>2016-03-10 00:00:00</td>\n",
       "      <td>0</td>\n",
       "      <td>22559</td>\n",
       "      <td>2016-03-12 23:46:32</td>\n",
       "    </tr>\n",
       "  </tbody>\n",
       "</table>\n",
       "<p>6363 rows × 16 columns</p>\n",
       "</div>"
      ],
      "text/plain": [
       "              date_crawled  price vehicle_type  registration_year gearbox  \\\n",
       "7      2016-03-21 18:54:38      0        sedan               1980  manual   \n",
       "152    2016-03-11 18:55:53      0          bus               2004  manual   \n",
       "231    2016-03-16 22:06:24      0        wagon               2001  manual   \n",
       "466    2016-03-24 10:58:40      0        sedan               2016    auto   \n",
       "524    2016-03-25 22:53:44      0          bus               2005  manual   \n",
       "...                    ...    ...          ...                ...     ...   \n",
       "354175 2016-03-20 17:55:27      0        small               1995  manual   \n",
       "354205 2016-03-09 15:56:30      0        small               2000  manual   \n",
       "354238 2016-03-20 14:55:07      0        small               2002  manual   \n",
       "354248 2016-03-24 13:48:05      0        small               1999  manual   \n",
       "354277 2016-03-10 22:55:50      0        small               1999  manual   \n",
       "\n",
       "        power   model  kilometer  registration_month fuel_type       brand  \\\n",
       "7          50   other      40000                   7    petrol  volkswagen   \n",
       "152       101  meriva     150000                  10       lpg        opel   \n",
       "231       115  mondeo     150000                   0    petrol        ford   \n",
       "466       197     3er     150000                  12  gasoline         bmw   \n",
       "524       136   verso     100000                  10    petrol      toyota   \n",
       "...       ...     ...        ...                 ...       ...         ...   \n",
       "354175     45    polo     150000                   0    petrol  volkswagen   \n",
       "354205     65   corsa     150000                   0    petrol        opel   \n",
       "354238     60  fiesta     150000                   3    petrol        ford   \n",
       "354248     53   swift     150000                   3    petrol      suzuki   \n",
       "354277     37   arosa     150000                   7    petrol        seat   \n",
       "\n",
       "       repaired         date_created  number_of_pictures  postal_code  \\\n",
       "7            no  2016-03-21 00:00:00                   0        19348   \n",
       "152         yes  2016-03-11 00:00:00                   0        27432   \n",
       "231     unknown  2016-03-16 00:00:00                   0        57627   \n",
       "466          no  2016-03-24 00:00:00                   0        99867   \n",
       "524     unknown  2016-03-25 00:00:00                   0        86163   \n",
       "...         ...                  ...                 ...          ...   \n",
       "354175  unknown  2016-03-20 00:00:00                   0         2625   \n",
       "354205      yes  2016-03-09 00:00:00                   0        23758   \n",
       "354238  unknown  2016-03-20 00:00:00                   0        33659   \n",
       "354248  unknown  2016-03-24 00:00:00                   0        42329   \n",
       "354277      yes  2016-03-10 00:00:00                   0        22559   \n",
       "\n",
       "                  last_seen  \n",
       "7       2016-03-25 16:47:58  \n",
       "152     2016-03-12 23:47:10  \n",
       "231     2016-03-26 11:17:50  \n",
       "466     2016-03-25 19:46:09  \n",
       "524     2016-03-26 07:44:30  \n",
       "...                     ...  \n",
       "354175  2016-04-07 00:46:35  \n",
       "354205  2016-03-30 11:16:08  \n",
       "354238  2016-04-06 18:45:23  \n",
       "354248  2016-04-07 05:17:24  \n",
       "354277  2016-03-12 23:46:32  \n",
       "\n",
       "[6363 rows x 16 columns]"
      ]
     },
     "execution_count": 37,
     "metadata": {},
     "output_type": "execute_result"
    }
   ],
   "source": [
    "df[df['price'] == 0]"
   ]
  },
  {
   "cell_type": "markdown",
   "id": "c465e150",
   "metadata": {},
   "source": [
    "Более 6 тысяч значений с нулевой ценой, при этом остальные значения в порядке. Заполним данные значения медианой в зависимости от года выпуска, бренда и модели авто."
   ]
  },
  {
   "cell_type": "code",
   "execution_count": 38,
   "id": "b0117b54",
   "metadata": {},
   "outputs": [],
   "source": [
    "df.loc[df['price'] == 0, 'price'] = np.nan\n",
    "df['price'] = df['price'].fillna(df.groupby(['brand', 'model', 'power', 'registration_year'])['price'].transform('median'))"
   ]
  },
  {
   "cell_type": "markdown",
   "id": "a0779878",
   "metadata": {},
   "source": [
    "Выведем оставшиеся пропущенные значения:"
   ]
  },
  {
   "cell_type": "code",
   "execution_count": 39,
   "id": "2f575201",
   "metadata": {},
   "outputs": [
    {
     "data": {
      "text/plain": [
       "813"
      ]
     },
     "execution_count": 39,
     "metadata": {},
     "output_type": "execute_result"
    }
   ],
   "source": [
    "df['price'].isna().sum()"
   ]
  },
  {
   "cell_type": "markdown",
   "id": "0fc5797b",
   "metadata": {},
   "source": [
    "Данное количество значений мало, по сравнению со всем датасетом, поэтому можем отбросить их не боясь потерять в качестве."
   ]
  },
  {
   "cell_type": "code",
   "execution_count": 40,
   "id": "abb3490a",
   "metadata": {},
   "outputs": [],
   "source": [
    "df = df.query('price > 0')"
   ]
  },
  {
   "cell_type": "markdown",
   "id": "6e416cae",
   "metadata": {},
   "source": [
    "Выделим столбцы, которые не несут полезной информации для обучения моделей: `DateCrawled`, `DateCreated`, `LastSeen`, `NumberOfPictures`, `PostalCode`. Удалим их из исходного датафрейма."
   ]
  },
  {
   "cell_type": "code",
   "execution_count": 41,
   "id": "cfae9f49",
   "metadata": {},
   "outputs": [],
   "source": [
    "df = df.drop(['date_crawled',\n",
    "              'date_created',\n",
    "              'last_seen',\n",
    "              'number_of_pictures',\n",
    "              'postal_code'], axis=1)"
   ]
  },
  {
   "cell_type": "markdown",
   "id": "39c92885",
   "metadata": {},
   "source": [
    "Избавимся от полных дубликатов"
   ]
  },
  {
   "cell_type": "code",
   "execution_count": 42,
   "id": "db49a3f9",
   "metadata": {},
   "outputs": [],
   "source": [
    "df = df.drop_duplicates().reset_index(drop=True)"
   ]
  },
  {
   "cell_type": "code",
   "execution_count": 43,
   "id": "797e6d30",
   "metadata": {},
   "outputs": [
    {
     "data": {
      "image/png": "[encoded data removed]",
      "text/plain": [
       "<Figure size 400x400 with 1 Axes>"
      ]
     },
     "metadata": {},
     "output_type": "display_data"
    }
   ],
   "source": [
    "# построим таблицу корреляции признаков Пирсона\n",
    "plt.figure(figsize=(4, 4))\n",
    "plt.title('Таблица корреляции признаков', fontsize=16)\n",
    "sns.heatmap(df.corr(),\n",
    "        annot=True,\n",
    "        vmin=-1, vmax=1, center=0,\n",
    "        cbar=False, robust=True,\n",
    "        cmap='coolwarm', linewidth=0.2); "
   ]
  },
  {
   "cell_type": "markdown",
   "id": "3d0e8cad",
   "metadata": {},
   "source": [
    "Корреляция Пирсона работает только для нормально распределённых непрерывных переменных.   \n",
    "Используем другой метод - матрицу `phik` - она анализирует корреляцию между признаками любого типа и не требует предварительного кодирования. При использовании `phik` настроим параметр `interval_cols`, передав ему список с названиями непрерывных признаков (в нашем случае это признак `price`): если этого не сделать, библиотека своими силами будет пытаться разнести признаки по типам, и она часто делает в этом ошибки - от этого в свою очередь мы получаем некорректную оценку корреляций, так как от типа признака зависит метод оценки корреляции."
   ]
  },
  {
   "cell_type": "code",
   "execution_count": 44,
   "id": "f4fe2527",
   "metadata": {},
   "outputs": [
    {
     "data": {
      "text/html": [
       "<div>\n",
       "<style scoped>\n",
       "    .dataframe tbody tr th:only-of-type {\n",
       "        vertical-align: middle;\n",
       "    }\n",
       "\n",
       "    .dataframe tbody tr th {\n",
       "        vertical-align: top;\n",
       "    }\n",
       "\n",
       "    .dataframe thead th {\n",
       "        text-align: right;\n",
       "    }\n",
       "</style>\n",
       "<table border=\"1\" class=\"dataframe\">\n",
       "  <thead>\n",
       "    <tr style=\"text-align: right;\">\n",
       "      <th></th>\n",
       "      <th>price</th>\n",
       "      <th>vehicle_type</th>\n",
       "      <th>registration_year</th>\n",
       "      <th>gearbox</th>\n",
       "      <th>power</th>\n",
       "      <th>model</th>\n",
       "      <th>kilometer</th>\n",
       "      <th>registration_month</th>\n",
       "      <th>fuel_type</th>\n",
       "      <th>brand</th>\n",
       "      <th>repaired</th>\n",
       "    </tr>\n",
       "  </thead>\n",
       "  <tbody>\n",
       "    <tr>\n",
       "      <th>price</th>\n",
       "      <td>1.000000</td>\n",
       "      <td>0.265837</td>\n",
       "      <td>0.664828</td>\n",
       "      <td>0.319303</td>\n",
       "      <td>0.516455</td>\n",
       "      <td>0.580923</td>\n",
       "      <td>0.317930</td>\n",
       "      <td>0.131310</td>\n",
       "      <td>0.256675</td>\n",
       "      <td>0.359461</td>\n",
       "      <td>0.343548</td>\n",
       "    </tr>\n",
       "    <tr>\n",
       "      <th>vehicle_type</th>\n",
       "      <td>0.265837</td>\n",
       "      <td>1.000000</td>\n",
       "      <td>0.178963</td>\n",
       "      <td>0.275583</td>\n",
       "      <td>0.497179</td>\n",
       "      <td>0.915174</td>\n",
       "      <td>0.176075</td>\n",
       "      <td>0.078958</td>\n",
       "      <td>0.326485</td>\n",
       "      <td>0.634809</td>\n",
       "      <td>0.097450</td>\n",
       "    </tr>\n",
       "    <tr>\n",
       "      <th>registration_year</th>\n",
       "      <td>0.664828</td>\n",
       "      <td>0.178963</td>\n",
       "      <td>1.000000</td>\n",
       "      <td>0.124958</td>\n",
       "      <td>0.287312</td>\n",
       "      <td>0.636042</td>\n",
       "      <td>0.396209</td>\n",
       "      <td>0.115273</td>\n",
       "      <td>0.259850</td>\n",
       "      <td>0.376186</td>\n",
       "      <td>0.216049</td>\n",
       "    </tr>\n",
       "    <tr>\n",
       "      <th>gearbox</th>\n",
       "      <td>0.319303</td>\n",
       "      <td>0.275583</td>\n",
       "      <td>0.124958</td>\n",
       "      <td>1.000000</td>\n",
       "      <td>0.581652</td>\n",
       "      <td>0.651184</td>\n",
       "      <td>0.026129</td>\n",
       "      <td>0.052298</td>\n",
       "      <td>0.149594</td>\n",
       "      <td>0.529819</td>\n",
       "      <td>0.026538</td>\n",
       "    </tr>\n",
       "    <tr>\n",
       "      <th>power</th>\n",
       "      <td>0.516455</td>\n",
       "      <td>0.497179</td>\n",
       "      <td>0.287312</td>\n",
       "      <td>0.581652</td>\n",
       "      <td>1.000000</td>\n",
       "      <td>0.811324</td>\n",
       "      <td>0.118631</td>\n",
       "      <td>0.055529</td>\n",
       "      <td>0.258061</td>\n",
       "      <td>0.583707</td>\n",
       "      <td>0.120274</td>\n",
       "    </tr>\n",
       "    <tr>\n",
       "      <th>model</th>\n",
       "      <td>0.580923</td>\n",
       "      <td>0.915174</td>\n",
       "      <td>0.636042</td>\n",
       "      <td>0.651184</td>\n",
       "      <td>0.811324</td>\n",
       "      <td>1.000000</td>\n",
       "      <td>0.444922</td>\n",
       "      <td>0.152254</td>\n",
       "      <td>0.554456</td>\n",
       "      <td>0.998493</td>\n",
       "      <td>0.230682</td>\n",
       "    </tr>\n",
       "    <tr>\n",
       "      <th>kilometer</th>\n",
       "      <td>0.317930</td>\n",
       "      <td>0.176075</td>\n",
       "      <td>0.396209</td>\n",
       "      <td>0.026129</td>\n",
       "      <td>0.118631</td>\n",
       "      <td>0.444922</td>\n",
       "      <td>1.000000</td>\n",
       "      <td>0.068956</td>\n",
       "      <td>0.145425</td>\n",
       "      <td>0.272005</td>\n",
       "      <td>0.226610</td>\n",
       "    </tr>\n",
       "    <tr>\n",
       "      <th>registration_month</th>\n",
       "      <td>0.131310</td>\n",
       "      <td>0.078958</td>\n",
       "      <td>0.115273</td>\n",
       "      <td>0.052298</td>\n",
       "      <td>0.055529</td>\n",
       "      <td>0.152254</td>\n",
       "      <td>0.068956</td>\n",
       "      <td>1.000000</td>\n",
       "      <td>0.070382</td>\n",
       "      <td>0.089199</td>\n",
       "      <td>0.316770</td>\n",
       "    </tr>\n",
       "    <tr>\n",
       "      <th>fuel_type</th>\n",
       "      <td>0.256675</td>\n",
       "      <td>0.326485</td>\n",
       "      <td>0.259850</td>\n",
       "      <td>0.149594</td>\n",
       "      <td>0.258061</td>\n",
       "      <td>0.554456</td>\n",
       "      <td>0.145425</td>\n",
       "      <td>0.070382</td>\n",
       "      <td>1.000000</td>\n",
       "      <td>0.324511</td>\n",
       "      <td>0.070076</td>\n",
       "    </tr>\n",
       "    <tr>\n",
       "      <th>brand</th>\n",
       "      <td>0.359461</td>\n",
       "      <td>0.634809</td>\n",
       "      <td>0.376186</td>\n",
       "      <td>0.529819</td>\n",
       "      <td>0.583707</td>\n",
       "      <td>0.998493</td>\n",
       "      <td>0.272005</td>\n",
       "      <td>0.089199</td>\n",
       "      <td>0.324511</td>\n",
       "      <td>1.000000</td>\n",
       "      <td>0.138388</td>\n",
       "    </tr>\n",
       "    <tr>\n",
       "      <th>repaired</th>\n",
       "      <td>0.343548</td>\n",
       "      <td>0.097450</td>\n",
       "      <td>0.216049</td>\n",
       "      <td>0.026538</td>\n",
       "      <td>0.120274</td>\n",
       "      <td>0.230682</td>\n",
       "      <td>0.226610</td>\n",
       "      <td>0.316770</td>\n",
       "      <td>0.070076</td>\n",
       "      <td>0.138388</td>\n",
       "      <td>1.000000</td>\n",
       "    </tr>\n",
       "  </tbody>\n",
       "</table>\n",
       "</div>"
      ],
      "text/plain": [
       "                       price  vehicle_type  registration_year   gearbox  \\\n",
       "price               1.000000      0.265837           0.664828  0.319303   \n",
       "vehicle_type        0.265837      1.000000           0.178963  0.275583   \n",
       "registration_year   0.664828      0.178963           1.000000  0.124958   \n",
       "gearbox             0.319303      0.275583           0.124958  1.000000   \n",
       "power               0.516455      0.497179           0.287312  0.581652   \n",
       "model               0.580923      0.915174           0.636042  0.651184   \n",
       "kilometer           0.317930      0.176075           0.396209  0.026129   \n",
       "registration_month  0.131310      0.078958           0.115273  0.052298   \n",
       "fuel_type           0.256675      0.326485           0.259850  0.149594   \n",
       "brand               0.359461      0.634809           0.376186  0.529819   \n",
       "repaired            0.343548      0.097450           0.216049  0.026538   \n",
       "\n",
       "                       power     model  kilometer  registration_month  \\\n",
       "price               0.516455  0.580923   0.317930            0.131310   \n",
       "vehicle_type        0.497179  0.915174   0.176075            0.078958   \n",
       "registration_year   0.287312  0.636042   0.396209            0.115273   \n",
       "gearbox             0.581652  0.651184   0.026129            0.052298   \n",
       "power               1.000000  0.811324   0.118631            0.055529   \n",
       "model               0.811324  1.000000   0.444922            0.152254   \n",
       "kilometer           0.118631  0.444922   1.000000            0.068956   \n",
       "registration_month  0.055529  0.152254   0.068956            1.000000   \n",
       "fuel_type           0.258061  0.554456   0.145425            0.070382   \n",
       "brand               0.583707  0.998493   0.272005            0.089199   \n",
       "repaired            0.120274  0.230682   0.226610            0.316770   \n",
       "\n",
       "                    fuel_type     brand  repaired  \n",
       "price                0.256675  0.359461  0.343548  \n",
       "vehicle_type         0.326485  0.634809  0.097450  \n",
       "registration_year    0.259850  0.376186  0.216049  \n",
       "gearbox              0.149594  0.529819  0.026538  \n",
       "power                0.258061  0.583707  0.120274  \n",
       "model                0.554456  0.998493  0.230682  \n",
       "kilometer            0.145425  0.272005  0.226610  \n",
       "registration_month   0.070382  0.089199  0.316770  \n",
       "fuel_type            1.000000  0.324511  0.070076  \n",
       "brand                0.324511  1.000000  0.138388  \n",
       "repaired             0.070076  0.138388  1.000000  "
      ]
     },
     "execution_count": 44,
     "metadata": {},
     "output_type": "execute_result"
    }
   ],
   "source": [
    "phik_overview = df.phik_matrix(interval_cols=['price', 'registration_year', 'power', 'kilometer'])\n",
    "phik_overview"
   ]
  },
  {
   "cell_type": "code",
   "execution_count": 45,
   "id": "82dbc8a0",
   "metadata": {
    "scrolled": false
   },
   "outputs": [
    {
     "data": {
      "image/png": "[encoded data removed]",
      "text/plain": [
       "<Figure size 1000x1000 with 2 Axes>"
      ]
     },
     "metadata": {},
     "output_type": "display_data"
    }
   ],
   "source": [
    "plot_correlation_matrix(phik_overview.values, x_labels=phik_overview.columns, y_labels=phik_overview.index, \n",
    "                        vmin=0, vmax=1, color_map='Blues', title=r'correlation $\\phi_K$', fontsize_factor=1.5,\n",
    "                        figsize=(10,10))\n",
    "plt.tight_layout()"
   ]
  },
  {
   "cell_type": "markdown",
   "id": "8efdd10d",
   "metadata": {},
   "source": [
    "Больше всего с целевым признаком (ценой) коррелируют данные по модели, году выпуска автомобиля и его мощности. Меньше всего - по месяцу регистрации.  \n",
    "\n",
    "Также отметим, что напрямую коррелирует модель с брендом авто, мощностью и типом транспортного средства, что логично."
   ]
  },
  {
   "cell_type": "markdown",
   "id": "ce5b988e",
   "metadata": {},
   "source": [
    "**Вывод:**  \n",
    "В ходе изучения общей информации и предобработки данных были произведены следующие шаги:\n",
    "* Данные избавлены от дубликатов;\n",
    "* Устранены все пропуски;\n",
    "* Удалены неинформативные для обучения моделей столбцы;\n",
    "* Из данных убраны аномальные значения;\n",
    "* Построена таблица корреляции признаков с целевым признаком. Наиболее коррелирующими признаками с ценой автомобиля являются модель, мощность и год выпуска авто."
   ]
  },
  {
   "cell_type": "markdown",
   "id": "c1904a54",
   "metadata": {},
   "source": [
    "## Подготовка выборок для обучения моделей"
   ]
  },
  {
   "cell_type": "markdown",
   "id": "4d3935b4",
   "metadata": {},
   "source": [
    "Для таких моделей как *CatBoost* и *LightGBM* не требуется кодировать данные, для них достаточно перевести нечисленные признаки в категориальные, но для линейной регрессии данные необходимо обработать. Поэтому все обучение моделей будем производить на двух выборках, данные в которых преобразуем с помощью `OneHotEncoder` и `OrdinalEncoder`, т.е. преобразуем категориальные признаки в числовые значения."
   ]
  },
  {
   "cell_type": "code",
   "execution_count": 46,
   "id": "2c1a4792",
   "metadata": {},
   "outputs": [],
   "source": [
    "X = df.drop('price', axis=1)\n",
    "y = df['price']"
   ]
  },
  {
   "cell_type": "code",
   "execution_count": 47,
   "id": "8f788037",
   "metadata": {},
   "outputs": [],
   "source": [
    "# Преобразуем признаки с помощью OneHotEncoder\n",
    "df_ohe = df.copy()\n",
    "df_ohe = pd.get_dummies(df_ohe)"
   ]
  },
  {
   "cell_type": "code",
   "execution_count": 48,
   "id": "d4c1d313",
   "metadata": {},
   "outputs": [],
   "source": [
    "X_ohe = df_ohe.drop('price', axis=1)\n",
    "y_ohe = df_ohe['price']"
   ]
  },
  {
   "cell_type": "code",
   "execution_count": 49,
   "id": "244ffaef",
   "metadata": {},
   "outputs": [],
   "source": [
    "def split_df(X, y):\n",
    "    '''\n",
    "    Разделяет признаки на обучающую, валидационную и тестовую выборки\n",
    "    в размере 60:20:20, а также выводит размеры этих выборок\n",
    "    '''\n",
    "    # Разделим данные на обучающую, тестовую и валидационную выборки\n",
    "    X_train, X_test, y_train, y_test = train_test_split(X,\n",
    "                                                        y,\n",
    "                                                        test_size=0.2,\n",
    "                                                        random_state=RANDOM_STATE)\n",
    "    X_train, X_valid, y_train, y_valid = train_test_split(X,\n",
    "                                                          y,\n",
    "                                                          test_size=0.2,\n",
    "                                                          random_state=RANDOM_STATE)\n",
    "       \n",
    "    print('Размер признаков обучающей выборки:', X_train.shape)\n",
    "    print('Размер целевого признака обучающей выборки:', y_train.shape)\n",
    "    print('Размер признаков валидационной выборки:', X_valid.shape)\n",
    "    print('Размер целевого признака валидационной выборки:', y_valid.shape)\n",
    "    print('Размер признаков тестовой выборки:', X_test.shape)\n",
    "    print('Размер целевого признака тестовой выборки:', y_test.shape)\n",
    "        \n",
    "    return (X_train, X_valid, X_test, y_train, y_valid, y_test)"
   ]
  },
  {
   "cell_type": "code",
   "execution_count": 50,
   "id": "7b7e79fa",
   "metadata": {},
   "outputs": [
    {
     "name": "stdout",
     "output_type": "stream",
     "text": [
      "Размер признаков обучающей выборки: (220649, 314)\n",
      "Размер целевого признака обучающей выборки: (220649,)\n",
      "Размер признаков валидационной выборки: (55163, 314)\n",
      "Размер целевого признака валидационной выборки: (55163,)\n",
      "Размер признаков тестовой выборки: (55163, 314)\n",
      "Размер целевого признака тестовой выборки: (55163,)\n"
     ]
    }
   ],
   "source": [
    "(X_train_ohe,\n",
    " X_valid_ohe,\n",
    " X_test_ohe,\n",
    " y_train_ohe,\n",
    " y_valid_ohe,\n",
    " y_test_ohe) = split_df(X_ohe, y_ohe)"
   ]
  },
  {
   "cell_type": "code",
   "execution_count": 51,
   "id": "fd1ec236",
   "metadata": {},
   "outputs": [
    {
     "name": "stdout",
     "output_type": "stream",
     "text": [
      "Размер признаков обучающей выборки: (220649, 10)\n",
      "Размер целевого признака обучающей выборки: (220649,)\n",
      "Размер признаков валидационной выборки: (55163, 10)\n",
      "Размер целевого признака валидационной выборки: (55163,)\n",
      "Размер признаков тестовой выборки: (55163, 10)\n",
      "Размер целевого признака тестовой выборки: (55163,)\n"
     ]
    }
   ],
   "source": [
    "(X_train,\n",
    " X_valid,\n",
    " X_test,\n",
    " y_train,\n",
    " y_valid,\n",
    " y_test) = split_df(X, y)"
   ]
  },
  {
   "cell_type": "code",
   "execution_count": 52,
   "id": "d55100e5",
   "metadata": {},
   "outputs": [],
   "source": [
    "# Создадим список категориальных признаков\n",
    "categories = ['model',\n",
    "              'registration_year',\n",
    "              'vehicle_type',\n",
    "              'brand',\n",
    "              'gearbox',\n",
    "              'registration_month',\n",
    "              'fuel_type',\n",
    "              'repaired']\n",
    "# Преобразуем признаки с помощью OrdinalEncoder\n",
    "encoder = OrdinalEncoder(handle_unknown='use_encoded_value',\n",
    "                         unknown_value=333)\n",
    "# Копируем выборки\n",
    "X_train_encoder = X_train.copy()\n",
    "X_valid_encoder = X_valid.copy()\n",
    "X_test_encoder = X_test.copy()\n",
    "# Обучаем и трансформируем обучающую выборку\n",
    "X_train_encoder[categories] = encoder.fit_transform(X_train_encoder[categories])\n",
    "# Трансформируем валидационную и тестовую выборки\n",
    "X_valid_encoder[categories] = encoder.transform(X_valid[categories])\n",
    "X_test_encoder[categories] = encoder.transform(X_test[categories])"
   ]
  },
  {
   "cell_type": "markdown",
   "id": "8912578d",
   "metadata": {},
   "source": [
    "## Обучение моделей"
   ]
  },
  {
   "cell_type": "markdown",
   "id": "3274891b",
   "metadata": {},
   "source": [
    "Обучать будем несколько моделей: `LinearRegression`, `RandomForestRegressor`, `CatBoostRegressor`, `LGBMRegressor` и `XGBRegressor`. Для каждой модели попробуем разные гиперпараметры."
   ]
  },
  {
   "cell_type": "markdown",
   "id": "dc2e6ad0",
   "metadata": {},
   "source": [
    "Напишем функцию, которая будет обучать модели, получать предсказания и фиксировать время, затраченное на обучение и предсказания."
   ]
  },
  {
   "cell_type": "code",
   "execution_count": 53,
   "id": "04b596d9",
   "metadata": {},
   "outputs": [],
   "source": [
    "def model_fit(model, features_train, target_train, features_valid, target_valid):\n",
    "    '''\n",
    "    На вход получает модель обучения, признаки и целевой признак для\n",
    "    обучающей и валидационной выборок.\n",
    "    На выходе считает RMSE модели, время обучения и время предсказания\n",
    "    '''\n",
    "    # Обучаем модель\n",
    "    start_fit = time.time() # фиксируем время начала обучения\n",
    "    model.fit(features_train, target_train) # обучаем модель\n",
    "    time_fit = time.time() - start_fit # регистрируем время обучения\n",
    "    # Получаем предсказания модели\n",
    "    start_predict = time.time() # фиксируем время начала предсказаний\n",
    "    predicted_valid = model.predict(features_valid)\n",
    "    time_predict = time.time() - start_predict # регистрируем время предсказаний\n",
    "    # Считаем RMSE модели\n",
    "    rmse_score = mean_squared_error(target_valid, predicted_valid, squared=False)\n",
    "    \n",
    "    print(model, '\\n',\n",
    "          'RMSE:', round(rmse_score, 2), '\\n',\n",
    "          'Время обучения:', round(time_fit, 2), '\\n',\n",
    "          'Время предсказания:', round(time_predict, 2))\n",
    "    \n",
    "    return (rmse_score, time_fit * 1000, time_predict * 1000)"
   ]
  },
  {
   "cell_type": "code",
   "execution_count": 54,
   "id": "6f668ee8",
   "metadata": {},
   "outputs": [],
   "source": [
    "scorer = 'neg_mean_squared_error'"
   ]
  },
  {
   "cell_type": "markdown",
   "id": "d2dd71c9",
   "metadata": {},
   "source": [
    "### LinearRegression"
   ]
  },
  {
   "cell_type": "code",
   "execution_count": 55,
   "id": "a501a9b9",
   "metadata": {},
   "outputs": [],
   "source": [
    "# Объявим модель\n",
    "model_lr = LinearRegression()"
   ]
  },
  {
   "cell_type": "code",
   "execution_count": 56,
   "id": "72f21cbd",
   "metadata": {},
   "outputs": [],
   "source": [
    "# Объявим параметры модели\n",
    "params_lr = {\n",
    "    'fit_intercept': [True, False],\n",
    "    'normalize': [True, False],\n",
    "    'copy_X': [True, False],\n",
    "    'n_jobs': [1, -1]\n",
    "}"
   ]
  },
  {
   "cell_type": "code",
   "execution_count": 57,
   "id": "83063d43",
   "metadata": {},
   "outputs": [],
   "source": [
    "# Объявим параметры сетки\n",
    "grid_lr = GridSearchCV(\n",
    "    estimator=model_lr, \n",
    "    param_grid=params_lr, \n",
    "    cv=3, \n",
    "    scoring=scorer)"
   ]
  },
  {
   "cell_type": "code",
   "execution_count": 58,
   "id": "6612b5d2",
   "metadata": {},
   "outputs": [
    {
     "name": "stdout",
     "output_type": "stream",
     "text": [
      "LinearRegressor лучшие параметры: {'copy_X': True, 'fit_intercept': True, 'n_jobs': 1, 'normalize': False}\n"
     ]
    }
   ],
   "source": [
    "# Обучим модель\n",
    "grid_lr.fit(X_train_ohe, y_train_ohe)\n",
    "\n",
    "# Отобразим лучшие параметры\n",
    "print(\"LinearRegressor лучшие параметры:\", grid_lr.best_params_)"
   ]
  },
  {
   "cell_type": "code",
   "execution_count": 59,
   "id": "5b6c3e06",
   "metadata": {},
   "outputs": [],
   "source": [
    "model_lr_best = LinearRegression(\n",
    "    fit_intercept=True,\n",
    "    normalize=False,\n",
    "    copy_X=True,\n",
    "    n_jobs=1\n",
    ")"
   ]
  },
  {
   "cell_type": "code",
   "execution_count": 60,
   "id": "13263b7a",
   "metadata": {},
   "outputs": [
    {
     "name": "stdout",
     "output_type": "stream",
     "text": [
      "LinearRegression(n_jobs=1, normalize=False) \n",
      " RMSE: 2610.83 \n",
      " Время обучения: 7.34 \n",
      " Время предсказания: 0.14\n"
     ]
    }
   ],
   "source": [
    "(rmse_lr,\n",
    " time_fit_lr,\n",
    " time_predict_lr) = model_fit(model_lr_best,\n",
    "                              X_train_ohe,\n",
    "                              y_train_ohe,\n",
    "                              X_valid_ohe,\n",
    "                              y_valid_ohe)"
   ]
  },
  {
   "cell_type": "markdown",
   "id": "d81be4df",
   "metadata": {},
   "source": [
    "### RandomForestRegressor"
   ]
  },
  {
   "cell_type": "code",
   "execution_count": 61,
   "id": "ba5c0902",
   "metadata": {},
   "outputs": [],
   "source": [
    "# Объявим модель\n",
    "model_rfr = RandomForestRegressor()"
   ]
  },
  {
   "cell_type": "code",
   "execution_count": 62,
   "id": "65801355",
   "metadata": {},
   "outputs": [],
   "source": [
    "# Объявим параметры модели\n",
    "params_rfr = {'n_estimators': [10, 30, 50],\n",
    "             'max_depth': [1, 5, 10],\n",
    "             'random_state': [RANDOM_STATE]}"
   ]
  },
  {
   "cell_type": "code",
   "execution_count": 63,
   "id": "2c722665",
   "metadata": {},
   "outputs": [],
   "source": [
    "# Объявим параметры сетки\n",
    "grid_rfr = GridSearchCV(estimator=model_rfr,\n",
    "                        param_grid=params_rfr,\n",
    "                        scoring=scorer,\n",
    "                        cv=3)"
   ]
  },
  {
   "cell_type": "code",
   "execution_count": 64,
   "id": "6047e76b",
   "metadata": {},
   "outputs": [
    {
     "name": "stdout",
     "output_type": "stream",
     "text": [
      "RandomForestRegressor лучшие параметры: {'max_depth': 10, 'n_estimators': 50, 'random_state': 12345}\n"
     ]
    }
   ],
   "source": [
    "# Обучим модель OrdinalEncoder\n",
    "grid_rfr.fit(X_train_encoder, y_train)\n",
    "\n",
    "# Отобразим лучшие параметры\n",
    "print(\"RandomForestRegressor лучшие параметры:\", grid_rfr.best_params_)"
   ]
  },
  {
   "cell_type": "code",
   "execution_count": 65,
   "id": "3e1ff30d",
   "metadata": {},
   "outputs": [],
   "source": [
    "# Объявим модель с лучшими параметрами\n",
    "model_rfr_best = RandomForestRegressor(max_depth=10,\n",
    "                                       n_estimators=50,\n",
    "                                       random_state=RANDOM_STATE)"
   ]
  },
  {
   "cell_type": "code",
   "execution_count": 66,
   "id": "eaa6f018",
   "metadata": {},
   "outputs": [
    {
     "name": "stdout",
     "output_type": "stream",
     "text": [
      "RandomForestRegressor(max_depth=10, n_estimators=50, random_state=12345) \n",
      " RMSE: 1853.58 \n",
      " Время обучения: 20.1 \n",
      " Время предсказания: 0.27\n"
     ]
    }
   ],
   "source": [
    "(rmse_rfr,\n",
    " time_fit_rfr,\n",
    " time_predict_rfr) = model_fit(model_rfr_best,\n",
    "                               X_train_encoder,\n",
    "                               y_train,\n",
    "                               X_valid_encoder,\n",
    "                               y_valid)"
   ]
  },
  {
   "cell_type": "markdown",
   "id": "da34ea22",
   "metadata": {},
   "source": [
    "### CatBoostRegressor"
   ]
  },
  {
   "cell_type": "code",
   "execution_count": 67,
   "id": "c68d0b33",
   "metadata": {},
   "outputs": [],
   "source": [
    "# Объявим модель\n",
    "model_cbr = CatBoostRegressor()"
   ]
  },
  {
   "cell_type": "code",
   "execution_count": 68,
   "id": "75dede75",
   "metadata": {},
   "outputs": [],
   "source": [
    "# Объявим параметры модели\n",
    "params_cbr = {'depth': [6, 8, 10],\n",
    "              'learning_rate': [0.1, 0.5],\n",
    "              'metric_period': [10],\n",
    "              'random_state': [RANDOM_STATE]}"
   ]
  },
  {
   "cell_type": "code",
   "execution_count": 69,
   "id": "c5eba4c5",
   "metadata": {},
   "outputs": [],
   "source": [
    "# Объявим параметры сетки\n",
    "grid_cbr = GridSearchCV(estimator=model_cbr,\n",
    "                        param_grid=params_cbr,\n",
    "                        scoring=scorer,\n",
    "                        cv=3,\n",
    "                        n_jobs=-1,\n",
    "                        verbose=1)"
   ]
  },
  {
   "cell_type": "code",
   "execution_count": 70,
   "id": "a9483fba",
   "metadata": {
    "scrolled": true
   },
   "outputs": [
    {
     "name": "stdout",
     "output_type": "stream",
     "text": [
      "Fitting 3 folds for each of 6 candidates, totalling 18 fits\n",
      "0:\tlearn: 4252.9932277\ttotal: 201ms\tremaining: 3m 21s\n",
      "10:\tlearn: 2485.4662022\ttotal: 717ms\tremaining: 1m 4s\n",
      "20:\tlearn: 1982.1154994\ttotal: 1.26s\tremaining: 58.7s\n",
      "30:\tlearn: 1823.9036483\ttotal: 1.78s\tremaining: 55.6s\n",
      "40:\tlearn: 1757.8852721\ttotal: 2.25s\tremaining: 52.8s\n",
      "50:\tlearn: 1722.2048416\ttotal: 2.73s\tremaining: 50.7s\n",
      "60:\tlearn: 1696.1703367\ttotal: 3.21s\tremaining: 49.4s\n",
      "70:\tlearn: 1674.7130155\ttotal: 3.7s\tremaining: 48.4s\n",
      "80:\tlearn: 1659.0549422\ttotal: 4.17s\tremaining: 47.3s\n",
      "90:\tlearn: 1644.9180273\ttotal: 4.66s\tremaining: 46.5s\n",
      "100:\tlearn: 1631.3089312\ttotal: 5.12s\tremaining: 45.6s\n",
      "110:\tlearn: 1620.3472576\ttotal: 5.6s\tremaining: 44.9s\n",
      "120:\tlearn: 1610.2160558\ttotal: 6.11s\tremaining: 44.4s\n",
      "130:\tlearn: 1600.1094221\ttotal: 6.6s\tremaining: 43.8s\n",
      "140:\tlearn: 1591.6953655\ttotal: 7.1s\tremaining: 43.3s\n",
      "150:\tlearn: 1583.3509775\ttotal: 7.58s\tremaining: 42.6s\n",
      "160:\tlearn: 1575.7137192\ttotal: 8.04s\tremaining: 41.9s\n",
      "170:\tlearn: 1568.9201120\ttotal: 8.51s\tremaining: 41.2s\n",
      "180:\tlearn: 1561.9688496\ttotal: 8.96s\tremaining: 40.6s\n",
      "190:\tlearn: 1556.7443297\ttotal: 9.44s\tremaining: 40s\n",
      "200:\tlearn: 1550.9682025\ttotal: 9.94s\tremaining: 39.5s\n",
      "210:\tlearn: 1545.1225419\ttotal: 10.4s\tremaining: 39s\n",
      "220:\tlearn: 1539.4778173\ttotal: 10.9s\tremaining: 38.4s\n",
      "230:\tlearn: 1534.1085045\ttotal: 11.4s\tremaining: 37.8s\n",
      "240:\tlearn: 1529.2741382\ttotal: 11.8s\tremaining: 37.3s\n",
      "250:\tlearn: 1525.0246520\ttotal: 12.4s\tremaining: 37.1s\n",
      "260:\tlearn: 1520.4365238\ttotal: 13s\tremaining: 36.9s\n",
      "270:\tlearn: 1516.4751465\ttotal: 13.8s\tremaining: 37s\n",
      "280:\tlearn: 1512.6967166\ttotal: 14.5s\tremaining: 37.1s\n",
      "290:\tlearn: 1508.9347472\ttotal: 15s\tremaining: 36.6s\n",
      "300:\tlearn: 1504.8415920\ttotal: 15.6s\tremaining: 36.2s\n",
      "310:\tlearn: 1501.4170477\ttotal: 16.2s\tremaining: 36s\n",
      "320:\tlearn: 1497.7166821\ttotal: 16.8s\tremaining: 35.6s\n",
      "330:\tlearn: 1494.2558629\ttotal: 17.4s\tremaining: 35.1s\n",
      "340:\tlearn: 1490.9037983\ttotal: 17.9s\tremaining: 34.7s\n",
      "350:\tlearn: 1487.2125173\ttotal: 18.4s\tremaining: 34s\n",
      "360:\tlearn: 1483.9769719\ttotal: 18.9s\tremaining: 33.4s\n",
      "370:\tlearn: 1480.9934780\ttotal: 19.3s\tremaining: 32.8s\n",
      "380:\tlearn: 1478.0086156\ttotal: 19.8s\tremaining: 32.2s\n",
      "390:\tlearn: 1475.0643348\ttotal: 20.3s\tremaining: 31.6s\n",
      "400:\tlearn: 1471.7386236\ttotal: 20.8s\tremaining: 31s\n",
      "410:\tlearn: 1469.2383473\ttotal: 21.3s\tremaining: 30.5s\n",
      "420:\tlearn: 1466.4168500\ttotal: 21.8s\tremaining: 29.9s\n",
      "430:\tlearn: 1463.0290471\ttotal: 22.2s\tremaining: 29.3s\n",
      "440:\tlearn: 1459.9460548\ttotal: 22.7s\tremaining: 28.8s\n",
      "450:\tlearn: 1457.2692336\ttotal: 23.2s\tremaining: 28.2s\n",
      "460:\tlearn: 1454.2294870\ttotal: 23.7s\tremaining: 27.7s\n",
      "470:\tlearn: 1451.5172105\ttotal: 24.1s\tremaining: 27.1s\n",
      "480:\tlearn: 1448.9624785\ttotal: 24.6s\tremaining: 26.5s\n",
      "490:\tlearn: 1446.0746077\ttotal: 25.1s\tremaining: 26s\n",
      "500:\tlearn: 1443.4406749\ttotal: 25.5s\tremaining: 25.4s\n",
      "510:\tlearn: 1440.5552086\ttotal: 26s\tremaining: 24.9s\n",
      "520:\tlearn: 1438.0347340\ttotal: 26.5s\tremaining: 24.3s\n",
      "530:\tlearn: 1435.9440714\ttotal: 27s\tremaining: 23.8s\n",
      "540:\tlearn: 1433.5341199\ttotal: 27.4s\tremaining: 23.3s\n",
      "550:\tlearn: 1431.4099173\ttotal: 27.9s\tremaining: 22.7s\n",
      "560:\tlearn: 1429.0216651\ttotal: 28.4s\tremaining: 22.2s\n",
      "570:\tlearn: 1426.8466392\ttotal: 28.9s\tremaining: 21.7s\n",
      "580:\tlearn: 1424.6315068\ttotal: 29.4s\tremaining: 21.2s\n",
      "590:\tlearn: 1422.1891966\ttotal: 30s\tremaining: 20.7s\n",
      "600:\tlearn: 1419.8301027\ttotal: 30.5s\tremaining: 20.3s\n",
      "610:\tlearn: 1417.9308585\ttotal: 31.1s\tremaining: 19.8s\n",
      "620:\tlearn: 1415.8520887\ttotal: 31.6s\tremaining: 19.3s\n",
      "630:\tlearn: 1413.2583257\ttotal: 32.2s\tremaining: 18.8s\n",
      "640:\tlearn: 1411.3448605\ttotal: 32.7s\tremaining: 18.3s\n",
      "650:\tlearn: 1409.2741245\ttotal: 33.3s\tremaining: 17.8s\n",
      "660:\tlearn: 1407.4831309\ttotal: 33.8s\tremaining: 17.3s\n",
      "670:\tlearn: 1405.7263744\ttotal: 34.2s\tremaining: 16.8s\n",
      "680:\tlearn: 1403.8564399\ttotal: 34.7s\tremaining: 16.2s\n",
      "690:\tlearn: 1401.9249143\ttotal: 35.2s\tremaining: 15.7s\n",
      "700:\tlearn: 1400.2045978\ttotal: 35.6s\tremaining: 15.2s\n",
      "710:\tlearn: 1398.5759331\ttotal: 36.1s\tremaining: 14.7s\n",
      "720:\tlearn: 1396.6001955\ttotal: 36.6s\tremaining: 14.2s\n",
      "730:\tlearn: 1394.6858540\ttotal: 37.1s\tremaining: 13.6s\n",
      "740:\tlearn: 1392.6268268\ttotal: 37.5s\tremaining: 13.1s\n",
      "750:\tlearn: 1390.6511579\ttotal: 38s\tremaining: 12.6s\n",
      "760:\tlearn: 1388.8969635\ttotal: 38.5s\tremaining: 12.1s\n",
      "770:\tlearn: 1387.1929439\ttotal: 38.9s\tremaining: 11.6s\n",
      "780:\tlearn: 1385.2763520\ttotal: 39.4s\tremaining: 11s\n",
      "790:\tlearn: 1383.6689570\ttotal: 39.9s\tremaining: 10.5s\n",
      "800:\tlearn: 1382.2328974\ttotal: 40.4s\tremaining: 10s\n",
      "810:\tlearn: 1380.5867815\ttotal: 40.8s\tremaining: 9.51s\n",
      "820:\tlearn: 1378.7232477\ttotal: 41.3s\tremaining: 9.01s\n",
      "830:\tlearn: 1377.1848222\ttotal: 41.8s\tremaining: 8.49s\n",
      "840:\tlearn: 1375.5034429\ttotal: 42.2s\tremaining: 7.98s\n",
      "850:\tlearn: 1373.7728727\ttotal: 42.7s\tremaining: 7.48s\n",
      "860:\tlearn: 1372.0050600\ttotal: 43.2s\tremaining: 6.98s\n",
      "870:\tlearn: 1370.3928333\ttotal: 43.7s\tremaining: 6.48s\n",
      "880:\tlearn: 1368.7550900\ttotal: 44.3s\tremaining: 5.98s\n",
      "890:\tlearn: 1367.3972162\ttotal: 44.9s\tremaining: 5.5s\n",
      "900:\tlearn: 1365.7547711\ttotal: 45.5s\tremaining: 5s\n",
      "910:\tlearn: 1363.8870035\ttotal: 46.1s\tremaining: 4.5s\n",
      "920:\tlearn: 1362.4107679\ttotal: 46.7s\tremaining: 4s\n",
      "930:\tlearn: 1360.9848861\ttotal: 47.2s\tremaining: 3.5s\n",
      "940:\tlearn: 1359.6338339\ttotal: 47.8s\tremaining: 2.99s\n",
      "950:\tlearn: 1358.0974941\ttotal: 48.3s\tremaining: 2.49s\n",
      "960:\tlearn: 1356.5054163\ttotal: 48.8s\tremaining: 1.98s\n",
      "970:\tlearn: 1355.1049498\ttotal: 49.4s\tremaining: 1.47s\n",
      "980:\tlearn: 1353.6301729\ttotal: 49.9s\tremaining: 967ms\n",
      "990:\tlearn: 1352.5214723\ttotal: 50.4s\tremaining: 458ms\n",
      "999:\tlearn: 1351.3176745\ttotal: 50.8s\tremaining: 0us\n",
      "CatBoostRegressor_OHE лучшие параметры: {'depth': 10, 'learning_rate': 0.1, 'metric_period': 10, 'random_state': 12345}\n"
     ]
    }
   ],
   "source": [
    "# Обучим модель OHE\n",
    "grid_cbr.fit(X_train_ohe, y_train_ohe)\n",
    "\n",
    "# Отобразим лучшие параметры\n",
    "print(\"CatBoostRegressor_OHE лучшие параметры:\", grid_cbr.best_params_)"
   ]
  },
  {
   "cell_type": "code",
   "execution_count": 71,
   "id": "cf7fead3",
   "metadata": {},
   "outputs": [],
   "source": [
    "# Объявим модель с лучшими параметрами\n",
    "model_cbr_ohe_best = CatBoostRegressor(depth=10,\n",
    "                                       learning_rate=0.1,\n",
    "                                       metric_period=10,\n",
    "                                       random_state=RANDOM_STATE)"
   ]
  },
  {
   "cell_type": "code",
   "execution_count": 72,
   "id": "a73fecb2",
   "metadata": {
    "scrolled": true
   },
   "outputs": [
    {
     "name": "stdout",
     "output_type": "stream",
     "text": [
      "0:\tlearn: 4252.9932277\ttotal: 48.6ms\tremaining: 48.5s\n",
      "10:\tlearn: 2485.4662022\ttotal: 504ms\tremaining: 45.3s\n",
      "20:\tlearn: 1982.1154994\ttotal: 981ms\tremaining: 45.8s\n",
      "30:\tlearn: 1823.9036483\ttotal: 1.48s\tremaining: 46.3s\n",
      "40:\tlearn: 1757.8852721\ttotal: 1.95s\tremaining: 45.6s\n",
      "50:\tlearn: 1722.2048416\ttotal: 2.42s\tremaining: 45.1s\n",
      "60:\tlearn: 1696.1703367\ttotal: 2.88s\tremaining: 44.4s\n",
      "70:\tlearn: 1674.7130155\ttotal: 3.36s\tremaining: 44s\n",
      "80:\tlearn: 1659.0549422\ttotal: 3.84s\tremaining: 43.6s\n",
      "90:\tlearn: 1644.9180273\ttotal: 4.36s\tremaining: 43.6s\n",
      "100:\tlearn: 1631.3089312\ttotal: 4.86s\tremaining: 43.3s\n",
      "110:\tlearn: 1620.3472576\ttotal: 5.33s\tremaining: 42.7s\n",
      "120:\tlearn: 1610.2160558\ttotal: 5.79s\tremaining: 42s\n",
      "130:\tlearn: 1600.1094221\ttotal: 6.25s\tremaining: 41.5s\n",
      "140:\tlearn: 1591.6953655\ttotal: 6.72s\tremaining: 40.9s\n",
      "150:\tlearn: 1583.3509775\ttotal: 7.2s\tremaining: 40.5s\n",
      "160:\tlearn: 1575.7137192\ttotal: 7.67s\tremaining: 40s\n",
      "170:\tlearn: 1568.9201120\ttotal: 8.17s\tremaining: 39.6s\n",
      "180:\tlearn: 1561.9688496\ttotal: 8.7s\tremaining: 39.4s\n",
      "190:\tlearn: 1556.7443297\ttotal: 9.26s\tremaining: 39.2s\n",
      "200:\tlearn: 1550.9682025\ttotal: 9.77s\tremaining: 38.9s\n",
      "210:\tlearn: 1545.1225419\ttotal: 10.3s\tremaining: 38.5s\n",
      "220:\tlearn: 1539.4778173\ttotal: 10.8s\tremaining: 38.1s\n",
      "230:\tlearn: 1534.1085045\ttotal: 11.4s\tremaining: 38s\n",
      "240:\tlearn: 1529.2741382\ttotal: 12s\tremaining: 37.8s\n",
      "250:\tlearn: 1525.0246520\ttotal: 12.6s\tremaining: 37.5s\n",
      "260:\tlearn: 1520.4365238\ttotal: 13.1s\tremaining: 37.2s\n",
      "270:\tlearn: 1516.4751465\ttotal: 13.7s\tremaining: 37s\n",
      "280:\tlearn: 1512.6967166\ttotal: 14.2s\tremaining: 36.4s\n",
      "290:\tlearn: 1508.9347472\ttotal: 14.8s\tremaining: 36s\n",
      "300:\tlearn: 1504.8415920\ttotal: 15.3s\tremaining: 35.5s\n",
      "310:\tlearn: 1501.4170477\ttotal: 15.7s\tremaining: 34.9s\n",
      "320:\tlearn: 1497.7166821\ttotal: 16.2s\tremaining: 34.2s\n",
      "330:\tlearn: 1494.2558629\ttotal: 16.7s\tremaining: 33.7s\n",
      "340:\tlearn: 1490.9037983\ttotal: 17.1s\tremaining: 33.1s\n",
      "350:\tlearn: 1487.2125173\ttotal: 17.6s\tremaining: 32.5s\n",
      "360:\tlearn: 1483.9769719\ttotal: 18.1s\tremaining: 32s\n",
      "370:\tlearn: 1480.9934780\ttotal: 18.6s\tremaining: 31.5s\n",
      "380:\tlearn: 1478.0086156\ttotal: 19s\tremaining: 30.9s\n",
      "390:\tlearn: 1475.0643348\ttotal: 19.5s\tremaining: 30.4s\n",
      "400:\tlearn: 1471.7386236\ttotal: 20s\tremaining: 29.8s\n",
      "410:\tlearn: 1469.2383473\ttotal: 20.4s\tremaining: 29.3s\n",
      "420:\tlearn: 1466.4168500\ttotal: 20.9s\tremaining: 28.7s\n",
      "430:\tlearn: 1463.0290471\ttotal: 21.4s\tremaining: 28.3s\n",
      "440:\tlearn: 1459.9460548\ttotal: 21.9s\tremaining: 27.7s\n",
      "450:\tlearn: 1457.2692336\ttotal: 22.3s\tremaining: 27.2s\n",
      "460:\tlearn: 1454.2294870\ttotal: 22.8s\tremaining: 26.6s\n",
      "470:\tlearn: 1451.5172105\ttotal: 23.2s\tremaining: 26.1s\n",
      "480:\tlearn: 1448.9624785\ttotal: 23.7s\tremaining: 25.6s\n",
      "490:\tlearn: 1446.0746077\ttotal: 24.2s\tremaining: 25.1s\n",
      "500:\tlearn: 1443.4406749\ttotal: 24.7s\tremaining: 24.6s\n",
      "510:\tlearn: 1440.5552086\ttotal: 25.3s\tremaining: 24.2s\n",
      "520:\tlearn: 1438.0347340\ttotal: 25.8s\tremaining: 23.7s\n",
      "530:\tlearn: 1435.9440714\ttotal: 26.3s\tremaining: 23.2s\n",
      "540:\tlearn: 1433.5341199\ttotal: 26.8s\tremaining: 22.7s\n",
      "550:\tlearn: 1431.4099173\ttotal: 27.3s\tremaining: 22.3s\n",
      "560:\tlearn: 1429.0216651\ttotal: 27.8s\tremaining: 21.8s\n",
      "570:\tlearn: 1426.8466392\ttotal: 28.4s\tremaining: 21.3s\n",
      "580:\tlearn: 1424.6315068\ttotal: 28.9s\tremaining: 20.9s\n",
      "590:\tlearn: 1422.1891966\ttotal: 29.4s\tremaining: 20.4s\n",
      "600:\tlearn: 1419.8301027\ttotal: 29.9s\tremaining: 19.8s\n",
      "610:\tlearn: 1417.9308585\ttotal: 30.3s\tremaining: 19.3s\n",
      "620:\tlearn: 1415.8520887\ttotal: 30.8s\tremaining: 18.8s\n",
      "630:\tlearn: 1413.2583257\ttotal: 31.3s\tremaining: 18.3s\n",
      "640:\tlearn: 1411.3448605\ttotal: 31.8s\tremaining: 17.8s\n",
      "650:\tlearn: 1409.2741245\ttotal: 32.2s\tremaining: 17.3s\n",
      "660:\tlearn: 1407.4831309\ttotal: 32.7s\tremaining: 16.8s\n",
      "670:\tlearn: 1405.7263744\ttotal: 33.1s\tremaining: 16.2s\n",
      "680:\tlearn: 1403.8564399\ttotal: 33.6s\tremaining: 15.7s\n",
      "690:\tlearn: 1401.9249143\ttotal: 34s\tremaining: 15.2s\n",
      "700:\tlearn: 1400.2045978\ttotal: 34.5s\tremaining: 14.7s\n",
      "710:\tlearn: 1398.5759331\ttotal: 35s\tremaining: 14.2s\n",
      "720:\tlearn: 1396.6001955\ttotal: 35.5s\tremaining: 13.7s\n",
      "730:\tlearn: 1394.6858540\ttotal: 36s\tremaining: 13.2s\n",
      "740:\tlearn: 1392.6268268\ttotal: 36.4s\tremaining: 12.7s\n",
      "750:\tlearn: 1390.6511579\ttotal: 36.9s\tremaining: 12.2s\n",
      "760:\tlearn: 1388.8969635\ttotal: 37.4s\tremaining: 11.7s\n",
      "770:\tlearn: 1387.1929439\ttotal: 37.8s\tremaining: 11.2s\n",
      "780:\tlearn: 1385.2763520\ttotal: 38.3s\tremaining: 10.7s\n",
      "790:\tlearn: 1383.6689570\ttotal: 38.8s\tremaining: 10.3s\n",
      "800:\tlearn: 1382.2328974\ttotal: 39.3s\tremaining: 9.75s\n",
      "810:\tlearn: 1380.5867815\ttotal: 39.7s\tremaining: 9.26s\n",
      "820:\tlearn: 1378.7232477\ttotal: 40.3s\tremaining: 8.78s\n",
      "830:\tlearn: 1377.1848222\ttotal: 40.8s\tremaining: 8.3s\n",
      "840:\tlearn: 1375.5034429\ttotal: 41.3s\tremaining: 7.82s\n",
      "850:\tlearn: 1373.7728727\ttotal: 41.9s\tremaining: 7.34s\n",
      "860:\tlearn: 1372.0050600\ttotal: 42.5s\tremaining: 6.86s\n",
      "870:\tlearn: 1370.3928333\ttotal: 43s\tremaining: 6.37s\n",
      "880:\tlearn: 1368.7550900\ttotal: 43.6s\tremaining: 5.88s\n",
      "890:\tlearn: 1367.3972162\ttotal: 44.2s\tremaining: 5.4s\n",
      "900:\tlearn: 1365.7547711\ttotal: 44.7s\tremaining: 4.91s\n",
      "910:\tlearn: 1363.8870035\ttotal: 45.3s\tremaining: 4.42s\n",
      "920:\tlearn: 1362.4107679\ttotal: 45.8s\tremaining: 3.93s\n",
      "930:\tlearn: 1360.9848861\ttotal: 46.3s\tremaining: 3.43s\n",
      "940:\tlearn: 1359.6338339\ttotal: 46.7s\tremaining: 2.93s\n",
      "950:\tlearn: 1358.0974941\ttotal: 47.2s\tremaining: 2.43s\n",
      "960:\tlearn: 1356.5054163\ttotal: 47.7s\tremaining: 1.93s\n",
      "970:\tlearn: 1355.1049498\ttotal: 48.2s\tremaining: 1.44s\n",
      "980:\tlearn: 1353.6301729\ttotal: 48.7s\tremaining: 943ms\n",
      "990:\tlearn: 1352.5214723\ttotal: 49.2s\tremaining: 446ms\n",
      "999:\tlearn: 1351.3176745\ttotal: 49.6s\tremaining: 0us\n",
      "<catboost.core.CatBoostRegressor object at 0x0000018843E35B80> \n",
      " RMSE: 1536.63 \n",
      " Время обучения: 50.64 \n",
      " Время предсказания: 0.29\n"
     ]
    }
   ],
   "source": [
    "(rmse_cbr_ohe,\n",
    " time_fit_cbr_ohe,\n",
    " time_predict_cbr_ohe) = model_fit(model_cbr_ohe_best,\n",
    "                                   X_train_ohe,\n",
    "                                   y_train_ohe,\n",
    "                                   X_valid_ohe,\n",
    "                                   y_valid_ohe)"
   ]
  },
  {
   "cell_type": "code",
   "execution_count": 73,
   "id": "298f7431",
   "metadata": {
    "scrolled": true
   },
   "outputs": [
    {
     "name": "stdout",
     "output_type": "stream",
     "text": [
      "Fitting 3 folds for each of 6 candidates, totalling 18 fits\n",
      "0:\tlearn: 4258.6724556\ttotal: 37.8ms\tremaining: 37.7s\n",
      "10:\tlearn: 2495.7310531\ttotal: 448ms\tremaining: 40.2s\n",
      "20:\tlearn: 1999.7481994\ttotal: 885ms\tremaining: 41.2s\n",
      "30:\tlearn: 1832.3719407\ttotal: 1.31s\tremaining: 40.9s\n",
      "40:\tlearn: 1759.5811012\ttotal: 1.77s\tremaining: 41.4s\n",
      "50:\tlearn: 1719.1794445\ttotal: 2.2s\tremaining: 41s\n",
      "60:\tlearn: 1686.1276891\ttotal: 2.66s\tremaining: 41s\n",
      "70:\tlearn: 1663.8454776\ttotal: 3.14s\tremaining: 41s\n",
      "80:\tlearn: 1643.5874810\ttotal: 3.6s\tremaining: 40.9s\n",
      "90:\tlearn: 1628.2038209\ttotal: 4.06s\tremaining: 40.6s\n",
      "100:\tlearn: 1612.3590223\ttotal: 4.55s\tremaining: 40.5s\n",
      "110:\tlearn: 1599.8792582\ttotal: 5.03s\tremaining: 40.3s\n",
      "120:\tlearn: 1587.9983798\ttotal: 5.5s\tremaining: 39.9s\n",
      "130:\tlearn: 1577.7026664\ttotal: 6.02s\tremaining: 39.9s\n",
      "140:\tlearn: 1567.9978599\ttotal: 6.49s\tremaining: 39.5s\n",
      "150:\tlearn: 1559.0462857\ttotal: 6.96s\tremaining: 39.2s\n",
      "160:\tlearn: 1550.2828915\ttotal: 7.43s\tremaining: 38.7s\n",
      "170:\tlearn: 1542.6558596\ttotal: 7.91s\tremaining: 38.3s\n",
      "180:\tlearn: 1534.7517929\ttotal: 8.38s\tremaining: 37.9s\n",
      "190:\tlearn: 1528.0393437\ttotal: 8.9s\tremaining: 37.7s\n",
      "200:\tlearn: 1520.6588379\ttotal: 9.43s\tremaining: 37.5s\n",
      "210:\tlearn: 1514.5399430\ttotal: 9.91s\tremaining: 37.1s\n",
      "220:\tlearn: 1508.8050125\ttotal: 10.4s\tremaining: 36.5s\n",
      "230:\tlearn: 1502.5073930\ttotal: 10.8s\tremaining: 35.9s\n",
      "240:\tlearn: 1496.6341900\ttotal: 11.2s\tremaining: 35.3s\n",
      "250:\tlearn: 1491.5650790\ttotal: 11.7s\tremaining: 34.8s\n",
      "260:\tlearn: 1486.6845230\ttotal: 12.1s\tremaining: 34.2s\n",
      "270:\tlearn: 1481.4543222\ttotal: 12.5s\tremaining: 33.7s\n",
      "280:\tlearn: 1476.4217707\ttotal: 13s\tremaining: 33.3s\n",
      "290:\tlearn: 1471.0900689\ttotal: 13.5s\tremaining: 32.8s\n",
      "300:\tlearn: 1466.5783678\ttotal: 13.9s\tremaining: 32.3s\n",
      "310:\tlearn: 1462.0032835\ttotal: 14.3s\tremaining: 31.8s\n",
      "320:\tlearn: 1458.5189136\ttotal: 14.8s\tremaining: 31.2s\n",
      "330:\tlearn: 1454.1555445\ttotal: 15.2s\tremaining: 30.7s\n",
      "340:\tlearn: 1449.8097723\ttotal: 15.6s\tremaining: 30.2s\n",
      "350:\tlearn: 1445.9434108\ttotal: 16.1s\tremaining: 29.8s\n",
      "360:\tlearn: 1441.9534993\ttotal: 16.5s\tremaining: 29.3s\n",
      "370:\tlearn: 1437.7438832\ttotal: 17s\tremaining: 28.8s\n",
      "380:\tlearn: 1433.9364577\ttotal: 17.4s\tremaining: 28.3s\n",
      "390:\tlearn: 1430.8349549\ttotal: 17.8s\tremaining: 27.8s\n",
      "400:\tlearn: 1427.0590194\ttotal: 18.3s\tremaining: 27.3s\n",
      "410:\tlearn: 1423.7137797\ttotal: 18.7s\tremaining: 26.9s\n",
      "420:\tlearn: 1420.1713072\ttotal: 19.2s\tremaining: 26.4s\n",
      "430:\tlearn: 1416.5567592\ttotal: 19.7s\tremaining: 26s\n",
      "440:\tlearn: 1413.7607134\ttotal: 20.2s\tremaining: 25.5s\n",
      "450:\tlearn: 1411.1391670\ttotal: 20.6s\tremaining: 25.1s\n",
      "460:\tlearn: 1408.3297562\ttotal: 21.1s\tremaining: 24.7s\n",
      "470:\tlearn: 1405.1742494\ttotal: 21.6s\tremaining: 24.3s\n",
      "480:\tlearn: 1402.2459881\ttotal: 22.1s\tremaining: 23.8s\n",
      "490:\tlearn: 1399.2413963\ttotal: 22.6s\tremaining: 23.5s\n",
      "500:\tlearn: 1396.5391093\ttotal: 23.1s\tremaining: 23s\n",
      "510:\tlearn: 1393.9301030\ttotal: 23.6s\tremaining: 22.6s\n",
      "520:\tlearn: 1391.3449885\ttotal: 24.1s\tremaining: 22.2s\n",
      "530:\tlearn: 1388.6664542\ttotal: 24.6s\tremaining: 21.7s\n",
      "540:\tlearn: 1386.2620278\ttotal: 25.1s\tremaining: 21.3s\n",
      "550:\tlearn: 1383.9932944\ttotal: 25.5s\tremaining: 20.8s\n",
      "560:\tlearn: 1381.2803557\ttotal: 26s\tremaining: 20.4s\n",
      "570:\tlearn: 1378.9688112\ttotal: 26.5s\tremaining: 19.9s\n",
      "580:\tlearn: 1375.8430964\ttotal: 26.9s\tremaining: 19.4s\n",
      "590:\tlearn: 1373.3418344\ttotal: 27.4s\tremaining: 19s\n",
      "600:\tlearn: 1370.8219767\ttotal: 27.8s\tremaining: 18.5s\n",
      "610:\tlearn: 1368.5757894\ttotal: 28.3s\tremaining: 18s\n",
      "620:\tlearn: 1366.2671060\ttotal: 28.7s\tremaining: 17.5s\n",
      "630:\tlearn: 1364.3050956\ttotal: 29.1s\tremaining: 17s\n",
      "640:\tlearn: 1361.6606238\ttotal: 29.6s\tremaining: 16.6s\n",
      "650:\tlearn: 1359.0499654\ttotal: 30s\tremaining: 16.1s\n",
      "660:\tlearn: 1357.0351089\ttotal: 30.5s\tremaining: 15.6s\n",
      "670:\tlearn: 1354.8239738\ttotal: 30.9s\tremaining: 15.2s\n",
      "680:\tlearn: 1352.5225908\ttotal: 31.4s\tremaining: 14.7s\n",
      "690:\tlearn: 1349.9242775\ttotal: 31.8s\tremaining: 14.2s\n",
      "700:\tlearn: 1347.7421590\ttotal: 32.3s\tremaining: 13.8s\n",
      "710:\tlearn: 1345.8097692\ttotal: 32.8s\tremaining: 13.3s\n",
      "720:\tlearn: 1343.6613204\ttotal: 33.2s\tremaining: 12.9s\n",
      "730:\tlearn: 1341.4104132\ttotal: 33.7s\tremaining: 12.4s\n",
      "740:\tlearn: 1339.5983023\ttotal: 34.2s\tremaining: 12s\n",
      "750:\tlearn: 1337.3673133\ttotal: 34.7s\tremaining: 11.5s\n",
      "760:\tlearn: 1335.4432988\ttotal: 35.1s\tremaining: 11s\n",
      "770:\tlearn: 1333.5341983\ttotal: 35.6s\tremaining: 10.6s\n",
      "780:\tlearn: 1331.5926506\ttotal: 36.1s\tremaining: 10.1s\n",
      "790:\tlearn: 1329.7045052\ttotal: 36.6s\tremaining: 9.68s\n",
      "800:\tlearn: 1327.8471558\ttotal: 37.2s\tremaining: 9.23s\n",
      "810:\tlearn: 1326.1221231\ttotal: 37.7s\tremaining: 8.79s\n",
      "820:\tlearn: 1324.3654695\ttotal: 38.2s\tremaining: 8.34s\n",
      "830:\tlearn: 1322.8681671\ttotal: 38.7s\tremaining: 7.87s\n",
      "840:\tlearn: 1321.2323678\ttotal: 39.2s\tremaining: 7.41s\n",
      "850:\tlearn: 1319.6487189\ttotal: 39.7s\tremaining: 6.96s\n",
      "860:\tlearn: 1318.2672365\ttotal: 40.2s\tremaining: 6.49s\n",
      "870:\tlearn: 1316.5304345\ttotal: 40.7s\tremaining: 6.03s\n",
      "880:\tlearn: 1315.1150817\ttotal: 41.2s\tremaining: 5.56s\n",
      "890:\tlearn: 1313.1386343\ttotal: 41.6s\tremaining: 5.09s\n",
      "900:\tlearn: 1311.2144307\ttotal: 42s\tremaining: 4.62s\n",
      "910:\tlearn: 1309.3960185\ttotal: 42.5s\tremaining: 4.15s\n",
      "920:\tlearn: 1307.7892689\ttotal: 42.9s\tremaining: 3.68s\n",
      "930:\tlearn: 1306.4734903\ttotal: 43.4s\tremaining: 3.21s\n",
      "940:\tlearn: 1305.0617368\ttotal: 43.8s\tremaining: 2.75s\n",
      "950:\tlearn: 1303.4074963\ttotal: 44.2s\tremaining: 2.28s\n",
      "960:\tlearn: 1301.9653624\ttotal: 44.6s\tremaining: 1.81s\n",
      "970:\tlearn: 1300.4358521\ttotal: 45s\tremaining: 1.34s\n",
      "980:\tlearn: 1298.6052512\ttotal: 45.5s\tremaining: 881ms\n",
      "990:\tlearn: 1297.0615431\ttotal: 45.9s\tremaining: 417ms\n",
      "999:\tlearn: 1295.8610092\ttotal: 46.3s\tremaining: 0us\n",
      "CatBoostRegressor_Encoder лучшие параметры: {'depth': 10, 'learning_rate': 0.1, 'metric_period': 10, 'random_state': 12345}\n"
     ]
    }
   ],
   "source": [
    "# Обучим модель OrdinalEncoder\n",
    "grid_cbr.fit(X_train_encoder, y_train)\n",
    "\n",
    "# Отобразим лучшие параметры\n",
    "print(\"CatBoostRegressor_Encoder лучшие параметры:\", grid_cbr.best_params_)"
   ]
  },
  {
   "cell_type": "code",
   "execution_count": 74,
   "id": "63e74a4d",
   "metadata": {},
   "outputs": [],
   "source": [
    "# Объявим модель с лучшими параметрами\n",
    "model_cbr_encoder_best = CatBoostRegressor(depth=10,\n",
    "                                           learning_rate=0.1,\n",
    "                                           metric_period=10,\n",
    "                                           random_state=RANDOM_STATE)"
   ]
  },
  {
   "cell_type": "code",
   "execution_count": 75,
   "id": "cd842615",
   "metadata": {
    "scrolled": true
   },
   "outputs": [
    {
     "name": "stdout",
     "output_type": "stream",
     "text": [
      "0:\tlearn: 4258.6724556\ttotal: 39.9ms\tremaining: 39.8s\n",
      "10:\tlearn: 2495.7310531\ttotal: 473ms\tremaining: 42.5s\n",
      "20:\tlearn: 1999.7481994\ttotal: 905ms\tremaining: 42.2s\n",
      "30:\tlearn: 1832.3719407\ttotal: 1.34s\tremaining: 41.8s\n",
      "40:\tlearn: 1759.5811012\ttotal: 1.78s\tremaining: 41.6s\n",
      "50:\tlearn: 1719.1794445\ttotal: 2.23s\tremaining: 41.5s\n",
      "60:\tlearn: 1686.1276891\ttotal: 2.7s\tremaining: 41.6s\n",
      "70:\tlearn: 1663.8454776\ttotal: 3.22s\tremaining: 42.1s\n",
      "80:\tlearn: 1643.5874810\ttotal: 3.68s\tremaining: 41.8s\n",
      "90:\tlearn: 1628.2038209\ttotal: 4.15s\tremaining: 41.4s\n",
      "100:\tlearn: 1612.3590223\ttotal: 4.61s\tremaining: 41s\n",
      "110:\tlearn: 1599.8792582\ttotal: 5.05s\tremaining: 40.4s\n",
      "120:\tlearn: 1587.9983798\ttotal: 5.58s\tremaining: 40.5s\n",
      "130:\tlearn: 1577.7026664\ttotal: 6.1s\tremaining: 40.5s\n",
      "140:\tlearn: 1567.9978599\ttotal: 6.54s\tremaining: 39.9s\n",
      "150:\tlearn: 1559.0462857\ttotal: 7.05s\tremaining: 39.7s\n",
      "160:\tlearn: 1550.2828915\ttotal: 7.57s\tremaining: 39.5s\n",
      "170:\tlearn: 1542.6558596\ttotal: 8.05s\tremaining: 39s\n",
      "180:\tlearn: 1534.7517929\ttotal: 8.63s\tremaining: 39.1s\n",
      "190:\tlearn: 1528.0393437\ttotal: 9.14s\tremaining: 38.7s\n",
      "200:\tlearn: 1520.6588379\ttotal: 9.65s\tremaining: 38.4s\n",
      "210:\tlearn: 1514.5399430\ttotal: 10.1s\tremaining: 37.9s\n",
      "220:\tlearn: 1508.8050125\ttotal: 10.6s\tremaining: 37.4s\n",
      "230:\tlearn: 1502.5073930\ttotal: 11s\tremaining: 36.8s\n",
      "240:\tlearn: 1496.6341900\ttotal: 11.6s\tremaining: 36.4s\n",
      "250:\tlearn: 1491.5650790\ttotal: 12s\tremaining: 35.9s\n",
      "260:\tlearn: 1486.6845230\ttotal: 12.5s\tremaining: 35.4s\n",
      "270:\tlearn: 1481.4543222\ttotal: 13s\tremaining: 34.9s\n",
      "280:\tlearn: 1476.4217707\ttotal: 13.4s\tremaining: 34.3s\n",
      "290:\tlearn: 1471.0900689\ttotal: 13.8s\tremaining: 33.7s\n",
      "300:\tlearn: 1466.5783678\ttotal: 14.3s\tremaining: 33.1s\n",
      "310:\tlearn: 1462.0032835\ttotal: 14.7s\tremaining: 32.5s\n",
      "320:\tlearn: 1458.5189136\ttotal: 15.1s\tremaining: 32s\n",
      "330:\tlearn: 1454.1555445\ttotal: 15.6s\tremaining: 31.5s\n",
      "340:\tlearn: 1449.8097723\ttotal: 16.1s\tremaining: 31s\n",
      "350:\tlearn: 1445.9434108\ttotal: 16.5s\tremaining: 30.5s\n",
      "360:\tlearn: 1441.9534993\ttotal: 17s\tremaining: 30s\n",
      "370:\tlearn: 1437.7438832\ttotal: 17.4s\tremaining: 29.5s\n",
      "380:\tlearn: 1433.9364577\ttotal: 17.9s\tremaining: 29.1s\n",
      "390:\tlearn: 1430.8349549\ttotal: 18.3s\tremaining: 28.5s\n",
      "400:\tlearn: 1427.0590194\ttotal: 18.8s\tremaining: 28s\n",
      "410:\tlearn: 1423.7137797\ttotal: 19.2s\tremaining: 27.5s\n",
      "420:\tlearn: 1420.1713072\ttotal: 19.7s\tremaining: 27s\n",
      "430:\tlearn: 1416.5567592\ttotal: 20.1s\tremaining: 26.5s\n",
      "440:\tlearn: 1413.7607134\ttotal: 20.6s\tremaining: 26.1s\n",
      "450:\tlearn: 1411.1391670\ttotal: 21s\tremaining: 25.6s\n",
      "460:\tlearn: 1408.3297562\ttotal: 21.5s\tremaining: 25.1s\n",
      "470:\tlearn: 1405.1742494\ttotal: 22s\tremaining: 24.7s\n",
      "480:\tlearn: 1402.2459881\ttotal: 22.5s\tremaining: 24.2s\n",
      "490:\tlearn: 1399.2413963\ttotal: 23s\tremaining: 23.8s\n",
      "500:\tlearn: 1396.5391093\ttotal: 23.5s\tremaining: 23.4s\n",
      "510:\tlearn: 1393.9301030\ttotal: 23.9s\tremaining: 22.9s\n",
      "520:\tlearn: 1391.3449885\ttotal: 24.4s\tremaining: 22.4s\n",
      "530:\tlearn: 1388.6664542\ttotal: 24.9s\tremaining: 22s\n",
      "540:\tlearn: 1386.2620278\ttotal: 25.4s\tremaining: 21.5s\n",
      "550:\tlearn: 1383.9932944\ttotal: 25.9s\tremaining: 21.1s\n",
      "560:\tlearn: 1381.2803557\ttotal: 26.4s\tremaining: 20.6s\n",
      "570:\tlearn: 1378.9688112\ttotal: 26.8s\tremaining: 20.2s\n",
      "580:\tlearn: 1375.8430964\ttotal: 27.3s\tremaining: 19.7s\n",
      "590:\tlearn: 1373.3418344\ttotal: 27.7s\tremaining: 19.2s\n",
      "600:\tlearn: 1370.8219767\ttotal: 28.1s\tremaining: 18.7s\n",
      "610:\tlearn: 1368.5757894\ttotal: 28.5s\tremaining: 18.2s\n",
      "620:\tlearn: 1366.2671060\ttotal: 29s\tremaining: 17.7s\n",
      "630:\tlearn: 1364.3050956\ttotal: 29.4s\tremaining: 17.2s\n",
      "640:\tlearn: 1361.6606238\ttotal: 29.9s\tremaining: 16.7s\n",
      "650:\tlearn: 1359.0499654\ttotal: 30.3s\tremaining: 16.2s\n",
      "660:\tlearn: 1357.0351089\ttotal: 30.7s\tremaining: 15.8s\n",
      "670:\tlearn: 1354.8239738\ttotal: 31.2s\tremaining: 15.3s\n",
      "680:\tlearn: 1352.5225908\ttotal: 31.6s\tremaining: 14.8s\n",
      "690:\tlearn: 1349.9242775\ttotal: 32s\tremaining: 14.3s\n",
      "700:\tlearn: 1347.7421590\ttotal: 32.4s\tremaining: 13.8s\n",
      "710:\tlearn: 1345.8097692\ttotal: 32.9s\tremaining: 13.4s\n",
      "720:\tlearn: 1343.6613204\ttotal: 33.3s\tremaining: 12.9s\n",
      "730:\tlearn: 1341.4104132\ttotal: 33.8s\tremaining: 12.4s\n",
      "740:\tlearn: 1339.5983023\ttotal: 34.2s\tremaining: 12s\n",
      "750:\tlearn: 1337.3673133\ttotal: 34.6s\tremaining: 11.5s\n",
      "760:\tlearn: 1335.4432988\ttotal: 35.1s\tremaining: 11s\n",
      "770:\tlearn: 1333.5341983\ttotal: 35.5s\tremaining: 10.5s\n",
      "780:\tlearn: 1331.5926506\ttotal: 36s\tremaining: 10.1s\n",
      "790:\tlearn: 1329.7045052\ttotal: 36.4s\tremaining: 9.62s\n",
      "800:\tlearn: 1327.8471558\ttotal: 36.8s\tremaining: 9.15s\n",
      "810:\tlearn: 1326.1221231\ttotal: 37.3s\tremaining: 8.69s\n",
      "820:\tlearn: 1324.3654695\ttotal: 37.8s\tremaining: 8.23s\n",
      "830:\tlearn: 1322.8681671\ttotal: 38.2s\tremaining: 7.78s\n",
      "840:\tlearn: 1321.2323678\ttotal: 38.7s\tremaining: 7.32s\n",
      "850:\tlearn: 1319.6487189\ttotal: 39.3s\tremaining: 6.87s\n",
      "860:\tlearn: 1318.2672365\ttotal: 39.8s\tremaining: 6.42s\n",
      "870:\tlearn: 1316.5304345\ttotal: 40.2s\tremaining: 5.96s\n",
      "880:\tlearn: 1315.1150817\ttotal: 40.7s\tremaining: 5.5s\n",
      "890:\tlearn: 1313.1386343\ttotal: 41.2s\tremaining: 5.04s\n",
      "900:\tlearn: 1311.2144307\ttotal: 41.7s\tremaining: 4.58s\n",
      "910:\tlearn: 1309.3960185\ttotal: 42.1s\tremaining: 4.12s\n",
      "920:\tlearn: 1307.7892689\ttotal: 42.6s\tremaining: 3.65s\n",
      "930:\tlearn: 1306.4734903\ttotal: 43s\tremaining: 3.19s\n",
      "940:\tlearn: 1305.0617368\ttotal: 43.5s\tremaining: 2.73s\n",
      "950:\tlearn: 1303.4074963\ttotal: 43.9s\tremaining: 2.26s\n",
      "960:\tlearn: 1301.9653624\ttotal: 44.3s\tremaining: 1.8s\n",
      "970:\tlearn: 1300.4358521\ttotal: 44.8s\tremaining: 1.34s\n",
      "980:\tlearn: 1298.6052512\ttotal: 45.2s\tremaining: 875ms\n",
      "990:\tlearn: 1297.0615431\ttotal: 45.6s\tremaining: 414ms\n",
      "999:\tlearn: 1295.8610092\ttotal: 46.1s\tremaining: 0us\n",
      "<catboost.core.CatBoostRegressor object at 0x0000018844790A90> \n",
      " RMSE: 1539.95 \n",
      " Время обучения: 46.49 \n",
      " Время предсказания: 0.23\n"
     ]
    }
   ],
   "source": [
    "(rmse_cbr_encoder,\n",
    "time_fit_cbr_encoder,\n",
    "time_predict_cbr_encoder) = model_fit(model_cbr_encoder_best,\n",
    "                                      X_train_encoder,\n",
    "                                      y_train,\n",
    "                                      X_valid_encoder,\n",
    "                                      y_valid)"
   ]
  },
  {
   "cell_type": "markdown",
   "id": "487265f2",
   "metadata": {},
   "source": [
    "### LGBMRegressor"
   ]
  },
  {
   "cell_type": "code",
   "execution_count": 76,
   "id": "b7012efc",
   "metadata": {},
   "outputs": [],
   "source": [
    "# Объявим модель\n",
    "model_lgbm = LGBMRegressor()"
   ]
  },
  {
   "cell_type": "code",
   "execution_count": 77,
   "id": "b7a05be8",
   "metadata": {},
   "outputs": [],
   "source": [
    "# Объявим параметры модели\n",
    "params_lgbm = {'num_leaves':[60],\n",
    "               'learning_rate':[0.1,0.5],\n",
    "               'max_depth':[6,10],\n",
    "               'random_state':[RANDOM_STATE]}"
   ]
  },
  {
   "cell_type": "code",
   "execution_count": 78,
   "id": "b828f3ee",
   "metadata": {},
   "outputs": [],
   "source": [
    "# Объявим параметры сетки\n",
    "grid_lgbm = GridSearchCV(estimator=model_lgbm,\n",
    "                         param_grid=params_lgbm,\n",
    "                         scoring=scorer,\n",
    "                         cv=3,\n",
    "                         n_jobs=-1)"
   ]
  },
  {
   "cell_type": "code",
   "execution_count": 79,
   "id": "5bcdf554",
   "metadata": {},
   "outputs": [
    {
     "name": "stdout",
     "output_type": "stream",
     "text": [
      "[LightGBM] [Info] Auto-choosing row-wise multi-threading, the overhead of testing was 0.010099 seconds.\n",
      "You can set `force_row_wise=true` to remove the overhead.\n",
      "And if memory is not enough, you can set `force_col_wise=true`.\n",
      "[LightGBM] [Info] Total Bins 882\n",
      "[LightGBM] [Info] Number of data points in the train set: 220649, number of used features: 296\n",
      "[LightGBM] [Info] Start training from score 4780.929247\n",
      "[LightGBM] [Warning] No further splits with positive gain, best gain: -inf\n",
      "[LightGBM] [Warning] No further splits with positive gain, best gain: -inf\n",
      "[LightGBM] [Warning] No further splits with positive gain, best gain: -inf\n",
      "LGBMRegressor_OHE лучшие параметры: {'learning_rate': 0.5, 'max_depth': 10, 'num_leaves': 60, 'random_state': 12345}\n"
     ]
    }
   ],
   "source": [
    "# Обучим модель OHE\n",
    "grid_lgbm.fit(X_train_ohe, y_train_ohe)\n",
    "\n",
    "# Отобразим лучшие параметры\n",
    "print(\"LGBMRegressor_OHE лучшие параметры:\", grid_lgbm.best_params_)"
   ]
  },
  {
   "cell_type": "code",
   "execution_count": 80,
   "id": "cdec466b",
   "metadata": {},
   "outputs": [],
   "source": [
    "# Объявим модель с лучшими параметрами\n",
    "model_lgbm_ohe_best = LGBMRegressor(learning_rate=0.5,\n",
    "                                    max_depth=10,\n",
    "                                    num_leaves=60,\n",
    "                                    random_state=RANDOM_STATE)"
   ]
  },
  {
   "cell_type": "code",
   "execution_count": 81,
   "id": "56f74832",
   "metadata": {},
   "outputs": [
    {
     "name": "stdout",
     "output_type": "stream",
     "text": [
      "[LightGBM] [Info] Auto-choosing row-wise multi-threading, the overhead of testing was 0.011333 seconds.\n",
      "You can set `force_row_wise=true` to remove the overhead.\n",
      "And if memory is not enough, you can set `force_col_wise=true`.\n",
      "[LightGBM] [Info] Total Bins 882\n",
      "[LightGBM] [Info] Number of data points in the train set: 220649, number of used features: 296\n",
      "[LightGBM] [Info] Start training from score 4780.929247\n",
      "[LightGBM] [Warning] No further splits with positive gain, best gain: -inf\n",
      "[LightGBM] [Warning] No further splits with positive gain, best gain: -inf\n",
      "[LightGBM] [Warning] No further splits with positive gain, best gain: -inf\n",
      "LGBMRegressor(learning_rate=0.5, max_depth=10, num_leaves=60,\n",
      "              random_state=12345) \n",
      " RMSE: 1585.02 \n",
      " Время обучения: 2.33 \n",
      " Время предсказания: 0.35\n"
     ]
    }
   ],
   "source": [
    "(rmse_lgbm_ohe,\n",
    " time_fit_lgbm_ohe,\n",
    " time_predict_lgbm_ohe) = model_fit(model_lgbm_ohe_best,\n",
    "                                    X_train_ohe,\n",
    "                                    y_train_ohe,\n",
    "                                    X_valid_ohe,\n",
    "                                    y_valid_ohe)"
   ]
  },
  {
   "cell_type": "code",
   "execution_count": 82,
   "id": "5843e184",
   "metadata": {
    "scrolled": true
   },
   "outputs": [
    {
     "name": "stdout",
     "output_type": "stream",
     "text": [
      "[LightGBM] [Info] Auto-choosing col-wise multi-threading, the overhead of testing was 0.013855 seconds.\n",
      "You can set `force_col_wise=true` to remove the overhead.\n",
      "[LightGBM] [Info] Total Bins 605\n",
      "[LightGBM] [Info] Number of data points in the train set: 220649, number of used features: 10\n",
      "[LightGBM] [Info] Start training from score 4780.929247\n",
      "[LightGBM] [Warning] No further splits with positive gain, best gain: -inf\n",
      "[LightGBM] [Warning] No further splits with positive gain, best gain: -inf\n",
      "[LightGBM] [Warning] No further splits with positive gain, best gain: -inf\n",
      "[LightGBM] [Warning] No further splits with positive gain, best gain: -inf\n",
      "[LightGBM] [Warning] No further splits with positive gain, best gain: -inf\n",
      "[LightGBM] [Warning] No further splits with positive gain, best gain: -inf\n",
      "[LightGBM] [Warning] No further splits with positive gain, best gain: -inf\n",
      "[LightGBM] [Warning] No further splits with positive gain, best gain: -inf\n",
      "[LightGBM] [Warning] No further splits with positive gain, best gain: -inf\n",
      "[LightGBM] [Warning] No further splits with positive gain, best gain: -inf\n",
      "[LightGBM] [Warning] No further splits with positive gain, best gain: -inf\n",
      "[LightGBM] [Warning] No further splits with positive gain, best gain: -inf\n",
      "[LightGBM] [Warning] No further splits with positive gain, best gain: -inf\n",
      "[LightGBM] [Warning] No further splits with positive gain, best gain: -inf\n",
      "[LightGBM] [Warning] No further splits with positive gain, best gain: -inf\n",
      "[LightGBM] [Warning] No further splits with positive gain, best gain: -inf\n",
      "[LightGBM] [Warning] No further splits with positive gain, best gain: -inf\n",
      "[LightGBM] [Warning] No further splits with positive gain, best gain: -inf\n",
      "[LightGBM] [Warning] No further splits with positive gain, best gain: -inf\n",
      "[LightGBM] [Warning] No further splits with positive gain, best gain: -inf\n",
      "[LightGBM] [Warning] No further splits with positive gain, best gain: -inf\n",
      "[LightGBM] [Warning] No further splits with positive gain, best gain: -inf\n",
      "[LightGBM] [Warning] No further splits with positive gain, best gain: -inf\n",
      "[LightGBM] [Warning] No further splits with positive gain, best gain: -inf\n",
      "[LightGBM] [Warning] No further splits with positive gain, best gain: -inf\n",
      "[LightGBM] [Warning] No further splits with positive gain, best gain: -inf\n",
      "[LightGBM] [Warning] No further splits with positive gain, best gain: -inf\n",
      "[LightGBM] [Warning] No further splits with positive gain, best gain: -inf\n",
      "[LightGBM] [Warning] No further splits with positive gain, best gain: -inf\n",
      "[LightGBM] [Warning] No further splits with positive gain, best gain: -inf\n",
      "[LightGBM] [Warning] No further splits with positive gain, best gain: -inf\n",
      "[LightGBM] [Warning] No further splits with positive gain, best gain: -inf\n",
      "[LightGBM] [Warning] No further splits with positive gain, best gain: -inf\n",
      "[LightGBM] [Warning] No further splits with positive gain, best gain: -inf\n",
      "[LightGBM] [Warning] No further splits with positive gain, best gain: -inf\n",
      "[LightGBM] [Warning] No further splits with positive gain, best gain: -inf\n",
      "[LightGBM] [Warning] No further splits with positive gain, best gain: -inf\n",
      "[LightGBM] [Warning] No further splits with positive gain, best gain: -inf\n",
      "[LightGBM] [Warning] No further splits with positive gain, best gain: -inf\n",
      "[LightGBM] [Warning] No further splits with positive gain, best gain: -inf\n",
      "[LightGBM] [Warning] No further splits with positive gain, best gain: -inf\n",
      "[LightGBM] [Warning] No further splits with positive gain, best gain: -inf\n",
      "[LightGBM] [Warning] No further splits with positive gain, best gain: -inf\n",
      "[LightGBM] [Warning] No further splits with positive gain, best gain: -inf\n",
      "[LightGBM] [Warning] No further splits with positive gain, best gain: -inf\n",
      "[LightGBM] [Warning] No further splits with positive gain, best gain: -inf\n",
      "[LightGBM] [Warning] No further splits with positive gain, best gain: -inf\n",
      "[LightGBM] [Warning] No further splits with positive gain, best gain: -inf\n",
      "[LightGBM] [Warning] No further splits with positive gain, best gain: -inf\n",
      "[LightGBM] [Warning] No further splits with positive gain, best gain: -inf\n",
      "[LightGBM] [Warning] No further splits with positive gain, best gain: -inf\n",
      "[LightGBM] [Warning] No further splits with positive gain, best gain: -inf\n",
      "[LightGBM] [Warning] No further splits with positive gain, best gain: -inf\n",
      "[LightGBM] [Warning] No further splits with positive gain, best gain: -inf\n",
      "[LightGBM] [Warning] No further splits with positive gain, best gain: -inf\n",
      "[LightGBM] [Warning] No further splits with positive gain, best gain: -inf\n",
      "[LightGBM] [Warning] No further splits with positive gain, best gain: -inf\n",
      "[LightGBM] [Warning] No further splits with positive gain, best gain: -inf\n",
      "[LightGBM] [Warning] No further splits with positive gain, best gain: -inf\n",
      "[LightGBM] [Warning] No further splits with positive gain, best gain: -inf\n",
      "[LightGBM] [Warning] No further splits with positive gain, best gain: -inf\n",
      "[LightGBM] [Warning] No further splits with positive gain, best gain: -inf\n",
      "[LightGBM] [Warning] No further splits with positive gain, best gain: -inf\n",
      "[LightGBM] [Warning] No further splits with positive gain, best gain: -inf\n",
      "[LightGBM] [Warning] No further splits with positive gain, best gain: -inf\n",
      "[LightGBM] [Warning] No further splits with positive gain, best gain: -inf\n",
      "[LightGBM] [Warning] No further splits with positive gain, best gain: -inf\n",
      "[LightGBM] [Warning] No further splits with positive gain, best gain: -inf\n",
      "[LightGBM] [Warning] No further splits with positive gain, best gain: -inf\n",
      "[LightGBM] [Warning] No further splits with positive gain, best gain: -inf\n",
      "[LightGBM] [Warning] No further splits with positive gain, best gain: -inf\n",
      "[LightGBM] [Warning] No further splits with positive gain, best gain: -inf\n",
      "[LightGBM] [Warning] No further splits with positive gain, best gain: -inf\n",
      "[LightGBM] [Warning] No further splits with positive gain, best gain: -inf\n",
      "[LightGBM] [Warning] No further splits with positive gain, best gain: -inf\n",
      "[LightGBM] [Warning] No further splits with positive gain, best gain: -inf\n",
      "[LightGBM] [Warning] No further splits with positive gain, best gain: -inf\n",
      "LGBMRegressor_Encoder лучшие параметры: {'learning_rate': 0.5, 'max_depth': 6, 'num_leaves': 60, 'random_state': 12345}\n"
     ]
    }
   ],
   "source": [
    "# Обучим модель OrdinalEncoder\n",
    "grid_lgbm.fit(X_train_encoder, y_train)\n",
    "\n",
    "# Отобразим лучшие параметры\n",
    "print(\"LGBMRegressor_Encoder лучшие параметры:\", grid_lgbm.best_params_)"
   ]
  },
  {
   "cell_type": "code",
   "execution_count": 83,
   "id": "45539f30",
   "metadata": {},
   "outputs": [],
   "source": [
    "# Объявим модель с лучшими параметрами\n",
    "model_lgbm_encoder_best = LGBMRegressor(learning_rate=0.5,\n",
    "                                        max_depth=6,\n",
    "                                        num_leaves=60,\n",
    "                                        random_state=RANDOM_STATE)"
   ]
  },
  {
   "cell_type": "code",
   "execution_count": 84,
   "id": "3c287778",
   "metadata": {
    "scrolled": true
   },
   "outputs": [
    {
     "name": "stdout",
     "output_type": "stream",
     "text": [
      "[LightGBM] [Info] Auto-choosing col-wise multi-threading, the overhead of testing was 0.012881 seconds.\n",
      "You can set `force_col_wise=true` to remove the overhead.\n",
      "[LightGBM] [Info] Total Bins 605\n",
      "[LightGBM] [Info] Number of data points in the train set: 220649, number of used features: 10\n",
      "[LightGBM] [Info] Start training from score 4780.929247\n",
      "[LightGBM] [Warning] No further splits with positive gain, best gain: -inf\n",
      "[LightGBM] [Warning] No further splits with positive gain, best gain: -inf\n",
      "[LightGBM] [Warning] No further splits with positive gain, best gain: -inf\n",
      "[LightGBM] [Warning] No further splits with positive gain, best gain: -inf\n",
      "[LightGBM] [Warning] No further splits with positive gain, best gain: -inf\n",
      "[LightGBM] [Warning] No further splits with positive gain, best gain: -inf\n",
      "[LightGBM] [Warning] No further splits with positive gain, best gain: -inf\n",
      "[LightGBM] [Warning] No further splits with positive gain, best gain: -inf\n",
      "[LightGBM] [Warning] No further splits with positive gain, best gain: -inf\n",
      "[LightGBM] [Warning] No further splits with positive gain, best gain: -inf\n",
      "[LightGBM] [Warning] No further splits with positive gain, best gain: -inf\n",
      "[LightGBM] [Warning] No further splits with positive gain, best gain: -inf\n",
      "[LightGBM] [Warning] No further splits with positive gain, best gain: -inf\n",
      "[LightGBM] [Warning] No further splits with positive gain, best gain: -inf\n",
      "[LightGBM] [Warning] No further splits with positive gain, best gain: -inf\n",
      "[LightGBM] [Warning] No further splits with positive gain, best gain: -inf\n",
      "[LightGBM] [Warning] No further splits with positive gain, best gain: -inf\n",
      "[LightGBM] [Warning] No further splits with positive gain, best gain: -inf\n",
      "[LightGBM] [Warning] No further splits with positive gain, best gain: -inf\n",
      "[LightGBM] [Warning] No further splits with positive gain, best gain: -inf\n",
      "[LightGBM] [Warning] No further splits with positive gain, best gain: -inf\n",
      "[LightGBM] [Warning] No further splits with positive gain, best gain: -inf\n",
      "[LightGBM] [Warning] No further splits with positive gain, best gain: -inf\n",
      "[LightGBM] [Warning] No further splits with positive gain, best gain: -inf\n",
      "[LightGBM] [Warning] No further splits with positive gain, best gain: -inf\n",
      "[LightGBM] [Warning] No further splits with positive gain, best gain: -inf\n",
      "[LightGBM] [Warning] No further splits with positive gain, best gain: -inf\n",
      "[LightGBM] [Warning] No further splits with positive gain, best gain: -inf\n",
      "[LightGBM] [Warning] No further splits with positive gain, best gain: -inf\n",
      "[LightGBM] [Warning] No further splits with positive gain, best gain: -inf\n",
      "[LightGBM] [Warning] No further splits with positive gain, best gain: -inf\n",
      "[LightGBM] [Warning] No further splits with positive gain, best gain: -inf\n",
      "[LightGBM] [Warning] No further splits with positive gain, best gain: -inf\n",
      "[LightGBM] [Warning] No further splits with positive gain, best gain: -inf\n",
      "[LightGBM] [Warning] No further splits with positive gain, best gain: -inf\n",
      "[LightGBM] [Warning] No further splits with positive gain, best gain: -inf\n",
      "[LightGBM] [Warning] No further splits with positive gain, best gain: -inf\n",
      "[LightGBM] [Warning] No further splits with positive gain, best gain: -inf\n",
      "[LightGBM] [Warning] No further splits with positive gain, best gain: -inf\n",
      "[LightGBM] [Warning] No further splits with positive gain, best gain: -inf\n",
      "[LightGBM] [Warning] No further splits with positive gain, best gain: -inf\n",
      "[LightGBM] [Warning] No further splits with positive gain, best gain: -inf\n",
      "[LightGBM] [Warning] No further splits with positive gain, best gain: -inf\n",
      "[LightGBM] [Warning] No further splits with positive gain, best gain: -inf\n",
      "[LightGBM] [Warning] No further splits with positive gain, best gain: -inf\n",
      "[LightGBM] [Warning] No further splits with positive gain, best gain: -inf\n",
      "[LightGBM] [Warning] No further splits with positive gain, best gain: -inf\n",
      "[LightGBM] [Warning] No further splits with positive gain, best gain: -inf\n",
      "[LightGBM] [Warning] No further splits with positive gain, best gain: -inf\n",
      "[LightGBM] [Warning] No further splits with positive gain, best gain: -inf\n",
      "[LightGBM] [Warning] No further splits with positive gain, best gain: -inf\n",
      "[LightGBM] [Warning] No further splits with positive gain, best gain: -inf\n",
      "[LightGBM] [Warning] No further splits with positive gain, best gain: -inf\n",
      "[LightGBM] [Warning] No further splits with positive gain, best gain: -inf\n",
      "[LightGBM] [Warning] No further splits with positive gain, best gain: -inf\n",
      "[LightGBM] [Warning] No further splits with positive gain, best gain: -inf\n",
      "[LightGBM] [Warning] No further splits with positive gain, best gain: -inf\n",
      "[LightGBM] [Warning] No further splits with positive gain, best gain: -inf\n",
      "[LightGBM] [Warning] No further splits with positive gain, best gain: -inf\n",
      "[LightGBM] [Warning] No further splits with positive gain, best gain: -inf\n",
      "[LightGBM] [Warning] No further splits with positive gain, best gain: -inf\n",
      "[LightGBM] [Warning] No further splits with positive gain, best gain: -inf\n",
      "[LightGBM] [Warning] No further splits with positive gain, best gain: -inf\n",
      "[LightGBM] [Warning] No further splits with positive gain, best gain: -inf\n",
      "[LightGBM] [Warning] No further splits with positive gain, best gain: -inf\n",
      "[LightGBM] [Warning] No further splits with positive gain, best gain: -inf\n",
      "[LightGBM] [Warning] No further splits with positive gain, best gain: -inf\n",
      "[LightGBM] [Warning] No further splits with positive gain, best gain: -inf\n",
      "[LightGBM] [Warning] No further splits with positive gain, best gain: -inf\n",
      "[LightGBM] [Warning] No further splits with positive gain, best gain: -inf\n",
      "[LightGBM] [Warning] No further splits with positive gain, best gain: -inf\n",
      "[LightGBM] [Warning] No further splits with positive gain, best gain: -inf\n",
      "[LightGBM] [Warning] No further splits with positive gain, best gain: -inf\n",
      "[LightGBM] [Warning] No further splits with positive gain, best gain: -inf\n",
      "[LightGBM] [Warning] No further splits with positive gain, best gain: -inf\n",
      "[LightGBM] [Warning] No further splits with positive gain, best gain: -inf\n",
      "[LightGBM] [Warning] No further splits with positive gain, best gain: -inf\n",
      "LGBMRegressor(learning_rate=0.5, max_depth=6, num_leaves=60, random_state=12345) \n",
      " RMSE: 1621.99 \n",
      " Время обучения: 0.99 \n",
      " Время предсказания: 0.17\n"
     ]
    }
   ],
   "source": [
    "(rmse_lgbm_encoder,\n",
    " time_fit_lgbm_encoder,\n",
    " time_predict_lgbm_encoder) = model_fit(model_lgbm_encoder_best,\n",
    "                                        X_train_encoder,\n",
    "                                        y_train,\n",
    "                                        X_valid_encoder,\n",
    "                                        y_valid)"
   ]
  },
  {
   "cell_type": "markdown",
   "id": "d5aaa953",
   "metadata": {},
   "source": [
    "### XGBRegressor"
   ]
  },
  {
   "cell_type": "code",
   "execution_count": 85,
   "id": "7e67c846",
   "metadata": {},
   "outputs": [],
   "source": [
    "# Объявим модель\n",
    "model_xgb = XGBRegressor()"
   ]
  },
  {
   "cell_type": "code",
   "execution_count": 86,
   "id": "fa02c6f6",
   "metadata": {},
   "outputs": [],
   "source": [
    "# Объявим параметры модели\n",
    "params_xgb = {'learning_rate':[0.1,0.5],\n",
    "              'max_depth':[6,12],\n",
    "              'subsample':[0.5],\n",
    "              'colsample_bytree':[0.5],\n",
    "              'random_state':[RANDOM_STATE]}"
   ]
  },
  {
   "cell_type": "code",
   "execution_count": 87,
   "id": "245a4915",
   "metadata": {},
   "outputs": [],
   "source": [
    "# Объявим параметры сетки\n",
    "grid_xgb = GridSearchCV(estimator=model_xgb,\n",
    "                        param_grid=params_xgb,\n",
    "                        scoring=scorer,\n",
    "                        cv=3,\n",
    "                        n_jobs=-1,\n",
    "                        verbose=1)"
   ]
  },
  {
   "cell_type": "code",
   "execution_count": 88,
   "id": "7af2d76e",
   "metadata": {},
   "outputs": [
    {
     "name": "stdout",
     "output_type": "stream",
     "text": [
      "Fitting 3 folds for each of 4 candidates, totalling 12 fits\n",
      "XGBRegressor_OHE лучшие параметры: {'colsample_bytree': 0.5, 'learning_rate': 0.1, 'max_depth': 12, 'random_state': 12345, 'subsample': 0.5}\n"
     ]
    }
   ],
   "source": [
    "# Обучим модель OHE\n",
    "grid_xgb.fit(X_train_ohe, y_train_ohe)\n",
    "\n",
    "# Отобразим лучшие параметры\n",
    "print(\"XGBRegressor_OHE лучшие параметры:\", grid_xgb.best_params_)"
   ]
  },
  {
   "cell_type": "code",
   "execution_count": 89,
   "id": "a226f108",
   "metadata": {},
   "outputs": [],
   "source": [
    "# Объявим модель с лучшими параметрами\n",
    "model_xgb_ohe_best = XGBRegressor(colsample_bytre=0.5,\n",
    "                                  learning_rate=0.1,\n",
    "                                  max_depth=12,\n",
    "                                  random_state=RANDOM_STATE,\n",
    "                                  subsample=0.5)"
   ]
  },
  {
   "cell_type": "code",
   "execution_count": 90,
   "id": "f4e6875e",
   "metadata": {},
   "outputs": [
    {
     "name": "stdout",
     "output_type": "stream",
     "text": [
      "XGBRegressor(base_score=None, booster=None, callbacks=None,\n",
      "             colsample_bylevel=None, colsample_bynode=None, colsample_bytre=0.5,\n",
      "             colsample_bytree=None, device=None, early_stopping_rounds=None,\n",
      "             enable_categorical=False, eval_metric=None, feature_types=None,\n",
      "             gamma=None, grow_policy=None, importance_type=None,\n",
      "             interaction_constraints=None, learning_rate=0.1, max_bin=None,\n",
      "             max_cat_threshold=None, max_cat_to_onehot=None,\n",
      "             max_delta_step=None, max_depth=12, max_leaves=None,\n",
      "             min_child_weight=None, missing=nan, monotone_constraints=None,\n",
      "             multi_strategy=None, n_estimators=None, n_jobs=None,\n",
      "             num_parallel_tree=None, ...) \n",
      " RMSE: 1557.17 \n",
      " Время обучения: 15.75 \n",
      " Время предсказания: 0.31\n"
     ]
    }
   ],
   "source": [
    "(rmse_xgb_ohe,\n",
    " time_fit_xgb_ohe,\n",
    " time_predict_xgb_ohe) = model_fit(model_xgb_ohe_best,\n",
    "                                   X_train_ohe,\n",
    "                                   y_train_ohe,\n",
    "                                   X_valid_ohe,\n",
    "                                   y_valid_ohe)"
   ]
  },
  {
   "cell_type": "code",
   "execution_count": 91,
   "id": "34bf6aff",
   "metadata": {},
   "outputs": [
    {
     "name": "stdout",
     "output_type": "stream",
     "text": [
      "Fitting 3 folds for each of 4 candidates, totalling 12 fits\n",
      "XGBRegressor_Encoder лучшие параметры: {'colsample_bytree': 0.5, 'learning_rate': 0.1, 'max_depth': 12, 'random_state': 12345, 'subsample': 0.5}\n"
     ]
    }
   ],
   "source": [
    "# Обучим модель OrdinalEncoder\n",
    "grid_xgb.fit(X_train_encoder, y_train)\n",
    "\n",
    "# Отобразим лучшие параметры\n",
    "print(\"XGBRegressor_Encoder лучшие параметры:\", grid_xgb.best_params_)"
   ]
  },
  {
   "cell_type": "code",
   "execution_count": 92,
   "id": "8697075e",
   "metadata": {},
   "outputs": [],
   "source": [
    "# Объявим модель с лучшими параметрами\n",
    "model_xgb_encoder_best = XGBRegressor(colsample_bytre=0.5,\n",
    "                                      learning_rate=0.1,\n",
    "                                      max_depth=12,\n",
    "                                      random_state=RANDOM_STATE,\n",
    "                                      subsample=0.5)"
   ]
  },
  {
   "cell_type": "code",
   "execution_count": 93,
   "id": "48f48970",
   "metadata": {},
   "outputs": [
    {
     "name": "stdout",
     "output_type": "stream",
     "text": [
      "XGBRegressor(base_score=None, booster=None, callbacks=None,\n",
      "             colsample_bylevel=None, colsample_bynode=None, colsample_bytre=0.5,\n",
      "             colsample_bytree=None, device=None, early_stopping_rounds=None,\n",
      "             enable_categorical=False, eval_metric=None, feature_types=None,\n",
      "             gamma=None, grow_policy=None, importance_type=None,\n",
      "             interaction_constraints=None, learning_rate=0.1, max_bin=None,\n",
      "             max_cat_threshold=None, max_cat_to_onehot=None,\n",
      "             max_delta_step=None, max_depth=12, max_leaves=None,\n",
      "             min_child_weight=None, missing=nan, monotone_constraints=None,\n",
      "             multi_strategy=None, n_estimators=None, n_jobs=None,\n",
      "             num_parallel_tree=None, ...) \n",
      " RMSE: 1560.56 \n",
      " Время обучения: 4.84 \n",
      " Время предсказания: 0.17\n"
     ]
    }
   ],
   "source": [
    "(rmse_xgb_encoder,\n",
    " time_fit_xgb_encoder,\n",
    " time_predict_xgb_encoder) = model_fit(model_xgb_encoder_best,\n",
    "                                       X_train_encoder,\n",
    "                                       y_train,\n",
    "                                       X_valid_encoder,\n",
    "                                       y_valid)"
   ]
  },
  {
   "cell_type": "markdown",
   "id": "e60493ce",
   "metadata": {},
   "source": [
    "## Анализ работы моделей"
   ]
  },
  {
   "cell_type": "markdown",
   "id": "7b3505ac",
   "metadata": {},
   "source": [
    "Сведем все полученные результаты по каждой модели в одну таблицу:"
   ]
  },
  {
   "cell_type": "code",
   "execution_count": 94,
   "id": "8a51583b",
   "metadata": {},
   "outputs": [
    {
     "data": {
      "text/html": [
       "<div>\n",
       "<style scoped>\n",
       "    .dataframe tbody tr th:only-of-type {\n",
       "        vertical-align: middle;\n",
       "    }\n",
       "\n",
       "    .dataframe tbody tr th {\n",
       "        vertical-align: top;\n",
       "    }\n",
       "\n",
       "    .dataframe thead th {\n",
       "        text-align: right;\n",
       "    }\n",
       "</style>\n",
       "<table border=\"1\" class=\"dataframe\">\n",
       "  <thead>\n",
       "    <tr style=\"text-align: right;\">\n",
       "      <th></th>\n",
       "      <th>RMSE</th>\n",
       "      <th>Время обучения</th>\n",
       "      <th>Время предсказания</th>\n",
       "    </tr>\n",
       "  </thead>\n",
       "  <tbody>\n",
       "    <tr>\n",
       "      <th>LinearRegression</th>\n",
       "      <td>2610.83</td>\n",
       "      <td>7340.98</td>\n",
       "      <td>140.62</td>\n",
       "    </tr>\n",
       "    <tr>\n",
       "      <th>RandomForestRegressor_Encoder</th>\n",
       "      <td>1853.58</td>\n",
       "      <td>20095.29</td>\n",
       "      <td>265.27</td>\n",
       "    </tr>\n",
       "    <tr>\n",
       "      <th>CatBoostRegressor_OHE</th>\n",
       "      <td>1536.63</td>\n",
       "      <td>50635.53</td>\n",
       "      <td>291.22</td>\n",
       "    </tr>\n",
       "    <tr>\n",
       "      <th>CatBoostRegressor_Encoder</th>\n",
       "      <td>1539.95</td>\n",
       "      <td>46492.39</td>\n",
       "      <td>226.28</td>\n",
       "    </tr>\n",
       "    <tr>\n",
       "      <th>LGBMRegressor_OHE</th>\n",
       "      <td>1585.02</td>\n",
       "      <td>2326.88</td>\n",
       "      <td>351.50</td>\n",
       "    </tr>\n",
       "    <tr>\n",
       "      <th>LGBMRegressor_Encoder</th>\n",
       "      <td>1621.99</td>\n",
       "      <td>991.66</td>\n",
       "      <td>166.56</td>\n",
       "    </tr>\n",
       "    <tr>\n",
       "      <th>XGBRegressor_OHE</th>\n",
       "      <td>1557.17</td>\n",
       "      <td>15748.05</td>\n",
       "      <td>307.73</td>\n",
       "    </tr>\n",
       "    <tr>\n",
       "      <th>XGBRegressor_Encoder</th>\n",
       "      <td>1560.56</td>\n",
       "      <td>4841.41</td>\n",
       "      <td>169.55</td>\n",
       "    </tr>\n",
       "  </tbody>\n",
       "</table>\n",
       "</div>"
      ],
      "text/plain": [
       "                                  RMSE  Время обучения  Время предсказания\n",
       "LinearRegression               2610.83         7340.98              140.62\n",
       "RandomForestRegressor_Encoder  1853.58        20095.29              265.27\n",
       "CatBoostRegressor_OHE          1536.63        50635.53              291.22\n",
       "CatBoostRegressor_Encoder      1539.95        46492.39              226.28\n",
       "LGBMRegressor_OHE              1585.02         2326.88              351.50\n",
       "LGBMRegressor_Encoder          1621.99          991.66              166.56\n",
       "XGBRegressor_OHE               1557.17        15748.05              307.73\n",
       "XGBRegressor_Encoder           1560.56         4841.41              169.55"
      ]
     },
     "execution_count": 94,
     "metadata": {},
     "output_type": "execute_result"
    }
   ],
   "source": [
    "result_final_dict = {'RMSE': [rmse_lr, rmse_rfr,\n",
    "                             rmse_cbr_ohe, rmse_cbr_encoder,\n",
    "                             rmse_lgbm_ohe, rmse_lgbm_encoder,\n",
    "                             rmse_xgb_ohe, rmse_xgb_encoder],\n",
    "                    'Время обучения': [time_fit_lr, time_fit_rfr,\n",
    "                                      time_fit_cbr_ohe, time_fit_cbr_encoder,\n",
    "                                      time_fit_lgbm_ohe, time_fit_lgbm_encoder,\n",
    "                                      time_fit_xgb_ohe, time_fit_xgb_encoder],\n",
    "                    'Время предсказания': [time_predict_lr, time_predict_rfr,\n",
    "                                          time_predict_cbr_ohe, time_predict_cbr_encoder,\n",
    "                                          time_predict_lgbm_ohe, time_predict_lgbm_encoder,\n",
    "                                          time_predict_xgb_ohe, time_predict_xgb_encoder]}\n",
    "result_final = pd.DataFrame(result_final_dict, index=['LinearRegression', 'RandomForestRegressor_Encoder',\n",
    "                                                     'CatBoostRegressor_OHE', 'CatBoostRegressor_Encoder',\n",
    "                                                     'LGBMRegressor_OHE', 'LGBMRegressor_Encoder',\n",
    "                                                     'XGBRegressor_OHE', 'XGBRegressor_Encoder'])\n",
    "result_final.round(2)"
   ]
  },
  {
   "cell_type": "markdown",
   "id": "457e5b02",
   "metadata": {},
   "source": [
    "Наилучший результат по среднеквадратичной ошибке *RMSE* показала модель `CatBoostRegressor` с данными, закодированными при помощи `OneHotEncoder`.  \n",
    "\n",
    "Самая быстрая модель по времени предсказывания `XGBRegressor_Encoder`, времени обучения - `LGBMRegressor_Encoder`. Наихудший показатель *RMSE* у модели линейной регрессии.  \n",
    "\n",
    "Критерию Заказчика по значению *RMSE* не превышающую 2500 удовлетворяют все модели, кроме модели линейной регрессии.   \n",
    "\n",
    "По совокупности характеристик, наилучшая модель - `LGBMRegressor` с данными, закодированными при помощи `OrdinalEncoder`. У данной модели высокая скорость обучения и предсказания, а *RMSE* немногим выше *RMSE* `CatBoostRegressor`."
   ]
  },
  {
   "cell_type": "markdown",
   "id": "1b226f9b",
   "metadata": {},
   "source": [
    "Протестируем лучшую модель на тестовой выборке:"
   ]
  },
  {
   "cell_type": "code",
   "execution_count": 95,
   "id": "3da36207",
   "metadata": {},
   "outputs": [
    {
     "name": "stdout",
     "output_type": "stream",
     "text": [
      "RMSE: 1621.99 \n",
      " Время предсказания: 0.2\n"
     ]
    }
   ],
   "source": [
    "# Получаем предсказания модели\n",
    "start_predict = time.time() # фиксируем время начала предсказаний\n",
    "predicted_test = model_lgbm_encoder_best.predict(X_test_encoder)\n",
    "time_predict = time.time() - start_predict # регистрируем время предсказаний\n",
    "# Считаем RMSE модели\n",
    "rmse_score = mean_squared_error(y_test, predicted_test, squared=False)\n",
    "    \n",
    "print('RMSE:', round(rmse_score, 2), '\\n',\n",
    "      'Время предсказания:', round(time_predict, 2))"
   ]
  },
  {
   "cell_type": "markdown",
   "id": "76486d75",
   "metadata": {},
   "source": [
    "## Общий вывод"
   ]
  },
  {
   "cell_type": "markdown",
   "id": "a2d4b16f",
   "metadata": {},
   "source": [
    "В ходе работы над проектом проведены следующие шаги:\n",
    "* Изучена общая информация об исходных данных, проведена предобработка данных (устранение дубликатов и пропусков, удаление неиформативных признаков, устранение аномальных значений);\n",
    "* На основе предобработанных данных произведено разделение выборок для обучения моделей в соотношении 60% (обучающая выборка), 20% (валидационная выборка) и 20% (тестовая выборка). Данные кодировали при помощи двух методов: `OneHotEncoder` и `OrdinalEncoder`.\n",
    "* Обучили и сравнили показатели пяти моделей: `LinearRegression`, `RandomForestRegressor`, `CatBoostRegressor`, `LGBMRegressor` и `XGBRegressor`.\n",
    "* Выбрали наилучшую модель по совокупности характеристик (*RMSE*, время обучения и время предсказания) - `LGBMRegressor` с данными, закодированными при помощи `OrdinalEncoder`. Данная модель имееть показала значение метрики *RMSE* на тестовой выборке равным 1621.99, что удовлетворяет требованию Заказчика."
   ]
  }
 ],
 "metadata": {
  "ExecuteTimeLog": [
   {
    "duration": 3,
    "start_time": "2023-11-11T08:31:23.683Z"
   },
   {
    "duration": 3650,
    "start_time": "2023-11-11T08:31:23.688Z"
   },
   {
    "duration": 3,
    "start_time": "2023-11-11T08:31:27.341Z"
   },
   {
    "duration": 3049,
    "start_time": "2023-11-11T08:31:27.346Z"
   },
   {
    "duration": 3,
    "start_time": "2023-11-11T08:31:30.397Z"
   },
   {
    "duration": 90,
    "start_time": "2023-11-11T08:31:30.401Z"
   },
   {
    "duration": 4,
    "start_time": "2023-11-11T08:31:30.493Z"
   },
   {
    "duration": 1266,
    "start_time": "2023-11-11T08:31:30.499Z"
   },
   {
    "duration": 143,
    "start_time": "2023-11-11T08:31:31.767Z"
   },
   {
    "duration": 31,
    "start_time": "2023-11-11T08:31:31.912Z"
   },
   {
    "duration": 61,
    "start_time": "2023-11-11T08:31:31.945Z"
   },
   {
    "duration": 139,
    "start_time": "2023-11-11T08:31:32.008Z"
   },
   {
    "duration": 5,
    "start_time": "2023-11-11T08:31:32.148Z"
   },
   {
    "duration": 13,
    "start_time": "2023-11-11T08:31:32.155Z"
   },
   {
    "duration": 2722,
    "start_time": "2023-11-11T08:31:32.170Z"
   },
   {
    "duration": 410,
    "start_time": "2023-11-11T08:31:34.893Z"
   },
   {
    "duration": 354,
    "start_time": "2023-11-11T08:31:35.305Z"
   },
   {
    "duration": 337,
    "start_time": "2023-11-11T08:31:35.661Z"
   },
   {
    "duration": 144,
    "start_time": "2023-11-11T08:31:36.000Z"
   },
   {
    "duration": 76,
    "start_time": "2023-11-11T08:31:36.146Z"
   },
   {
    "duration": 119,
    "start_time": "2023-11-11T08:31:36.223Z"
   },
   {
    "duration": 41,
    "start_time": "2023-11-11T08:31:36.344Z"
   },
   {
    "duration": 156,
    "start_time": "2023-11-11T08:31:36.387Z"
   },
   {
    "duration": 3,
    "start_time": "2023-11-11T08:31:36.545Z"
   },
   {
    "duration": 93,
    "start_time": "2023-11-11T08:31:36.549Z"
   },
   {
    "duration": 307,
    "start_time": "2023-11-11T08:31:36.643Z"
   },
   {
    "duration": 40,
    "start_time": "2023-11-11T08:31:36.951Z"
   },
   {
    "duration": 1556,
    "start_time": "2023-11-11T08:31:36.994Z"
   },
   {
    "duration": 42,
    "start_time": "2023-11-11T08:31:38.552Z"
   },
   {
    "duration": 1567,
    "start_time": "2023-11-11T08:31:38.596Z"
   },
   {
    "duration": 34,
    "start_time": "2023-11-11T08:31:40.165Z"
   },
   {
    "duration": 1474,
    "start_time": "2023-11-11T08:31:40.201Z"
   },
   {
    "duration": 32,
    "start_time": "2023-11-11T08:31:41.676Z"
   },
   {
    "duration": 1534,
    "start_time": "2023-11-11T08:31:41.710Z"
   },
   {
    "duration": 7,
    "start_time": "2023-11-11T08:31:43.246Z"
   },
   {
    "duration": 1315,
    "start_time": "2023-11-11T08:31:43.254Z"
   },
   {
    "duration": 23,
    "start_time": "2023-11-11T08:31:44.571Z"
   },
   {
    "duration": 98,
    "start_time": "2023-11-11T08:31:44.596Z"
   },
   {
    "duration": 5,
    "start_time": "2023-11-11T08:31:44.695Z"
   },
   {
    "duration": 48,
    "start_time": "2023-11-11T08:31:44.702Z"
   },
   {
    "duration": 18,
    "start_time": "2023-11-11T08:31:44.752Z"
   },
   {
    "duration": 169,
    "start_time": "2023-11-11T08:31:44.772Z"
   },
   {
    "duration": 322,
    "start_time": "2023-11-11T08:31:44.943Z"
   },
   {
    "duration": 119,
    "start_time": "2023-11-11T08:31:45.266Z"
   },
   {
    "duration": 0,
    "start_time": "2023-11-11T08:31:45.386Z"
   },
   {
    "duration": 0,
    "start_time": "2023-11-11T08:31:45.387Z"
   },
   {
    "duration": 3,
    "start_time": "2023-11-11T08:38:05.986Z"
   },
   {
    "duration": 3314,
    "start_time": "2023-11-11T08:38:05.990Z"
   },
   {
    "duration": 2981,
    "start_time": "2023-11-11T08:38:09.305Z"
   },
   {
    "duration": 3,
    "start_time": "2023-11-11T08:38:12.288Z"
   },
   {
    "duration": 785,
    "start_time": "2023-11-11T08:38:12.292Z"
   },
   {
    "duration": 2,
    "start_time": "2023-11-11T08:38:13.079Z"
   },
   {
    "duration": 55,
    "start_time": "2023-11-11T08:38:13.083Z"
   },
   {
    "duration": 4,
    "start_time": "2023-11-11T08:38:13.139Z"
   },
   {
    "duration": 1070,
    "start_time": "2023-11-11T08:38:13.144Z"
   },
   {
    "duration": 169,
    "start_time": "2023-11-11T08:38:14.218Z"
   },
   {
    "duration": 31,
    "start_time": "2023-11-11T08:38:14.388Z"
   },
   {
    "duration": 79,
    "start_time": "2023-11-11T08:38:14.420Z"
   },
   {
    "duration": 122,
    "start_time": "2023-11-11T08:38:14.501Z"
   },
   {
    "duration": 6,
    "start_time": "2023-11-11T08:38:14.625Z"
   },
   {
    "duration": 13,
    "start_time": "2023-11-11T08:38:14.632Z"
   },
   {
    "duration": 2547,
    "start_time": "2023-11-11T08:38:14.647Z"
   },
   {
    "duration": 396,
    "start_time": "2023-11-11T08:38:17.196Z"
   },
   {
    "duration": 343,
    "start_time": "2023-11-11T08:38:17.594Z"
   },
   {
    "duration": 311,
    "start_time": "2023-11-11T08:38:17.939Z"
   },
   {
    "duration": 128,
    "start_time": "2023-11-11T08:38:18.252Z"
   },
   {
    "duration": 90,
    "start_time": "2023-11-11T08:38:18.382Z"
   },
   {
    "duration": 107,
    "start_time": "2023-11-11T08:38:18.473Z"
   },
   {
    "duration": 49,
    "start_time": "2023-11-11T08:38:18.582Z"
   },
   {
    "duration": 133,
    "start_time": "2023-11-11T08:38:18.632Z"
   },
   {
    "duration": 16,
    "start_time": "2023-11-11T08:38:18.767Z"
   },
   {
    "duration": 108,
    "start_time": "2023-11-11T08:38:18.785Z"
   },
   {
    "duration": 292,
    "start_time": "2023-11-11T08:38:18.895Z"
   },
   {
    "duration": 44,
    "start_time": "2023-11-11T08:38:19.190Z"
   },
   {
    "duration": 1419,
    "start_time": "2023-11-11T08:38:19.236Z"
   },
   {
    "duration": 42,
    "start_time": "2023-11-11T08:38:20.657Z"
   },
   {
    "duration": 1509,
    "start_time": "2023-11-11T08:38:20.700Z"
   },
   {
    "duration": 38,
    "start_time": "2023-11-11T08:38:22.211Z"
   },
   {
    "duration": 1449,
    "start_time": "2023-11-11T08:38:22.251Z"
   },
   {
    "duration": 42,
    "start_time": "2023-11-11T08:38:23.701Z"
   },
   {
    "duration": 1556,
    "start_time": "2023-11-11T08:38:23.745Z"
   },
   {
    "duration": 7,
    "start_time": "2023-11-11T08:38:25.303Z"
   },
   {
    "duration": 1207,
    "start_time": "2023-11-11T08:38:25.312Z"
   },
   {
    "duration": 30,
    "start_time": "2023-11-11T08:38:26.521Z"
   },
   {
    "duration": 83,
    "start_time": "2023-11-11T08:38:26.553Z"
   },
   {
    "duration": 5,
    "start_time": "2023-11-11T08:38:26.638Z"
   },
   {
    "duration": 31,
    "start_time": "2023-11-11T08:38:26.644Z"
   },
   {
    "duration": 18,
    "start_time": "2023-11-11T08:38:26.677Z"
   },
   {
    "duration": 164,
    "start_time": "2023-11-11T08:38:26.697Z"
   },
   {
    "duration": 288,
    "start_time": "2023-11-11T08:38:26.863Z"
   },
   {
    "duration": 16,
    "start_time": "2023-11-11T08:38:27.152Z"
   },
   {
    "duration": 3,
    "start_time": "2023-11-11T08:38:27.170Z"
   },
   {
    "duration": 0,
    "start_time": "2023-11-11T08:38:27.174Z"
   },
   {
    "duration": 4214,
    "start_time": "2023-11-11T08:38:30.567Z"
   },
   {
    "duration": 1418,
    "start_time": "2023-11-11T08:38:35.766Z"
   }
  ],
  "kernelspec": {
   "display_name": "Python 3 (ipykernel)",
   "language": "python",
   "name": "python3"
  },
  "language_info": {
   "codemirror_mode": {
    "name": "ipython",
    "version": 3
   },
   "file_extension": ".py",
   "mimetype": "text/x-python",
   "name": "python",
   "nbconvert_exporter": "python",
   "pygments_lexer": "ipython3",
   "version": "3.9.16"
  },
  "toc": {
   "base_numbering": 1,
   "nav_menu": {},
   "number_sections": true,
   "sideBar": true,
   "skip_h1_title": false,
   "title_cell": "Table of Contents",
   "title_sidebar": "Contents",
   "toc_cell": false,
   "toc_position": {},
   "toc_section_display": true,
   "toc_window_display": false
  }
 },
 "nbformat": 4,
 "nbformat_minor": 5
}
